{
 "cells": [
  {
   "cell_type": "code",
   "execution_count": 3,
   "metadata": {},
   "outputs": [
    {
     "ename": "ArgumentError",
     "evalue": "ArgumentError: Package DataFrames not found in current path.\n- Run `import Pkg; Pkg.add(\"DataFrames\")` to install the DataFrames package.",
     "output_type": "error",
     "traceback": [
      "ArgumentError: Package DataFrames not found in current path.\n",
      "- Run `import Pkg; Pkg.add(\"DataFrames\")` to install the DataFrames package.\n",
      "\n",
      "Stacktrace:\n",
      "  [1] macro expansion\n",
      "    @ ./loading.jl:1772 [inlined]\n",
      "  [2] macro expansion\n",
      "    @ ./lock.jl:267 [inlined]\n",
      "  [3] __require(into::Module, mod::Symbol)\n",
      "    @ Base ./loading.jl:1753\n",
      "  [4] #invoke_in_world#3\n",
      "    @ ./essentials.jl:926 [inlined]\n",
      "  [5] invoke_in_world\n",
      "    @ ./essentials.jl:923 [inlined]\n",
      "  [6] require(into::Module, mod::Symbol)\n",
      "    @ Base ./loading.jl:1746\n",
      "  [7] eval\n",
      "    @ ./boot.jl:385 [inlined]\n",
      "  [8] include_string(mapexpr::typeof(REPL.softscope), mod::Module, code::String, filename::String)\n",
      "    @ Base ./loading.jl:2076\n",
      "  [9] #invokelatest#2\n",
      "    @ ./essentials.jl:892 [inlined]\n",
      " [10] invokelatest\n",
      "    @ ./essentials.jl:889 [inlined]\n",
      " [11] (::VSCodeServer.var\"#217#218\"{VSCodeServer.NotebookRunCellArguments, String})()\n",
      "    @ VSCodeServer ~/.vscode/extensions/julialang.language-julia-1.127.2/scripts/packages/VSCodeServer/src/serve_notebook.jl:24\n",
      " [12] withpath(f::VSCodeServer.var\"#217#218\"{VSCodeServer.NotebookRunCellArguments, String}, path::String)\n",
      "    @ VSCodeServer ~/.vscode/extensions/julialang.language-julia-1.127.2/scripts/packages/VSCodeServer/src/repl.jl:276\n",
      " [13] notebook_runcell_request(conn::VSCodeServer.JSONRPC.JSONRPCEndpoint{Base.PipeEndpoint, Base.PipeEndpoint}, params::VSCodeServer.NotebookRunCellArguments)\n",
      "    @ VSCodeServer ~/.vscode/extensions/julialang.language-julia-1.127.2/scripts/packages/VSCodeServer/src/serve_notebook.jl:13\n",
      " [14] dispatch_msg(x::VSCodeServer.JSONRPC.JSONRPCEndpoint{Base.PipeEndpoint, Base.PipeEndpoint}, dispatcher::VSCodeServer.JSONRPC.MsgDispatcher, msg::Dict{String, Any})\n",
      "    @ VSCodeServer.JSONRPC ~/.vscode/extensions/julialang.language-julia-1.127.2/scripts/packages/JSONRPC/src/typed.jl:67\n",
      " [15] serve_notebook(pipename::String, debugger_pipename::String, outputchannel_logger::Base.CoreLogging.SimpleLogger; error_handler::var\"#5#10\"{String})\n",
      "    @ VSCodeServer ~/.vscode/extensions/julialang.language-julia-1.127.2/scripts/packages/VSCodeServer/src/serve_notebook.jl:147\n",
      " [16] top-level scope\n",
      "    @ ~/.vscode/extensions/julialang.language-julia-1.127.2/scripts/notebook/notebook.jl:35"
     ]
    }
   ],
   "source": [
    "using DataFrames\n",
    "using OpenStreetMapX\n",
    "using OSMToolset\n",
    "using CSV\n",
    "include(\"graph.jl\")\n",
    "using .OSMXGraph"
   ]
  },
  {
   "cell_type": "code",
   "execution_count": 2,
   "metadata": {},
   "outputs": [
    {
     "data": {
      "text/plain": [
       "\"../poi_config_test.csv\""
      ]
     },
     "metadata": {},
     "output_type": "display_data"
    }
   ],
   "source": [
    "city = \"Warszawa\"\n",
    "admin_level = \"6\"\n",
    "search_area = 500\n",
    "attr = :education\n",
    "wilderness_distance = 300\n",
    "shape = \"rectangle\"\n",
    "calculate_percent = true\n",
    "num_of_points = 100\n",
    "distance_sectors = 200.0\n",
    "scrape_config = \"../poi_config_test.csv\""
   ]
  },
  {
   "cell_type": "code",
   "execution_count": 3,
   "metadata": {},
   "outputs": [
    {
     "data": {
      "text/plain": [
       "\"../graph_results\""
      ]
     },
     "metadata": {},
     "output_type": "display_data"
    }
   ],
   "source": [
    "dir_in = \"../data\"\n",
    "dir_out = \"../graph_results\""
   ]
  },
  {
   "cell_type": "code",
   "execution_count": 4,
   "metadata": {},
   "outputs": [
    {
     "data": {
      "text/plain": [
       "13-element Vector{String}:\n",
       " \"motorway\"\n",
       " \"trunk\"\n",
       " \"primary\"\n",
       " \"secondary\"\n",
       " \"tertiary\"\n",
       " \"residential\"\n",
       " \"service\"\n",
       " \"living_street\"\n",
       " \"motorway_link\"\n",
       " \"trunk_link\"\n",
       " \"primary_link\"\n",
       " \"secondary_link\"\n",
       " \"tertiary_link\""
      ]
     },
     "metadata": {},
     "output_type": "display_data"
    }
   ],
   "source": [
    "road_types = [\"motorway\", \"trunk\", \"primary\", \"secondary\", \n",
    "            \"tertiary\", \"residential\", \"service\", \"living_street\", \n",
    "            \"motorway_link\", \"trunk_link\", \"primary_link\", \"secondary_link\", \n",
    "            \"tertiary_link\"]  "
   ]
  },
  {
   "cell_type": "code",
   "execution_count": 5,
   "metadata": {},
   "outputs": [
    {
     "data": {
      "text/plain": [
       "(\u001b[1m47385×9 DataFrame\u001b[0m\n",
       "\u001b[1m   Row \u001b[0m│\u001b[1m id    \u001b[0m\u001b[1m from_id \u001b[0m\u001b[1m to_id \u001b[0m\u001b[1m from        \u001b[0m\u001b[1m to          \u001b[0m\u001b[1m from_LLA            \u001b[0m ⋯\n",
       "       │\u001b[90m Int64 \u001b[0m\u001b[90m Int64   \u001b[0m\u001b[90m Int64 \u001b[0m\u001b[90m Int64       \u001b[0m\u001b[90m Int64       \u001b[0m\u001b[90m String              \u001b[0m ⋯\n",
       "───────┼────────────────────────────────────────────────────────────────────────\n",
       "     1 │     1     9966   3276   6345928771   2334226606  LLA(50.9014778, 20.5 ⋯\n",
       "     2 │     2     7510   7511   3590345306   3590340944  LLA(50.8435448, 20.6\n",
       "     3 │     3     7511   7510   3590340944   3590345306  LLA(50.8435434, 20.6\n",
       "     4 │     4     2671    423   2085021154    417933782  LLA(50.8810815, 20.6\n",
       "     5 │     5      423   2671    417933782   2085021154  LLA(50.8807244, 20.6 ⋯\n",
       "     6 │     6    11664   2671   7818064507   2085021154  LLA(50.8811721, 20.6\n",
       "     7 │     7     2671  11664   2085021154   7818064507  LLA(50.8810815, 20.6\n",
       "     8 │     8    11008  11664   7243570383   7818064507  LLA(50.8813177, 20.6\n",
       "   ⋮   │   ⋮       ⋮       ⋮         ⋮            ⋮                      ⋮     ⋱\n",
       " 47379 │ 47379    15240  15239  10597786175   9392268077  LLA(50.8679881, 20.6 ⋯\n",
       " 47380 │ 47380    15241  15239   9392268084   9392268077  LLA(50.8688432, 20.6\n",
       " 47381 │ 47381    15239  15241   9392268077   9392268084  LLA(50.8684114, 20.6\n",
       " 47382 │ 47382    15477  15476   9411616082   9411616076  LLA(50.8715143, 20.6\n",
       " 47383 │ 47383    15476  15477   9411616076   9411616082  LLA(50.8710551, 20.6 ⋯\n",
       " 47384 │ 47384    13827  13826   9100506287   9100506288  LLA(50.9019071, 20.6\n",
       " 47385 │ 47385    13826  13827   9100506288   9100506287  LLA(50.901989, 20.67\n",
       "\u001b[36m                                                4 columns and 47370 rows omitted\u001b[0m, sparse([3439, 8190, 11552, 9469, 11552, 8492, 10082, 17906, 8497, 14723  …  22646, 22645, 11750, 22648, 22649, 22647, 11749, 22647, 22650, 22649], [1, 1, 1, 2, 2, 3, 3, 3, 4, 4  …  22645, 22646, 22647, 22647, 22647, 22648, 22649, 22649, 22649, 22650], [32526, 32521, 32527, 28211, 32530, 23868, 33997, 33996, 23877, 27478  …  39397, 39398, 30759, 12293, 30758, 12294, 30756, 30757, 14917, 14918], 22650, 22650), NearestNeighbors.KDTree{StaticArraysCore.SVector{2, Float64}, Distances.Euclidean, Float64, StaticArraysCore.SVector{2, Float64}}\n",
       "  Number of points: 22650\n",
       "  Dimensions: 2\n",
       "  Metric: Distances.Euclidean(0.0)\n",
       "  Reordered: false, [4060, 14028, 13136, 18436, 5066, 13700, 16085, 10671, 17306, 15677  …  10787, 19938, 4099, 2615, 7680, 17050, 8843, 15794, 435, 5111])"
      ]
     },
     "metadata": {},
     "output_type": "display_data"
    }
   ],
   "source": [
    "df, sparse_index, road_index, node_ids = OSMXGraph.create_road_graph(\"Kielce.osm\", road_types,\"kielce_graph.csv\",\"kielce_nodes.json\",dir_in=dir_in,dir_out=dir_out)"
   ]
  },
  {
   "cell_type": "code",
   "execution_count": 23,
   "metadata": {},
   "outputs": [
    {
     "data": {
      "text/plain": [
       "9-element Vector{String}:\n",
       " \"id\"\n",
       " \"from_id\"\n",
       " \"to_id\"\n",
       " \"from\"\n",
       " \"to\"\n",
       " \"from_LLA\"\n",
       " \"to_LLA\"\n",
       " \"way\"\n",
       " \"type\""
      ]
     },
     "metadata": {},
     "output_type": "display_data"
    }
   ],
   "source": [
    "names(df)"
   ]
  },
  {
   "cell_type": "code",
   "execution_count": 6,
   "metadata": {},
   "outputs": [
    {
     "data": {
      "text/plain": [
       "(\u001b[1m47385×9 DataFrame\u001b[0m\n",
       "\u001b[1m   Row \u001b[0m│\u001b[1m id    \u001b[0m\u001b[1m from_id \u001b[0m\u001b[1m to_id \u001b[0m\u001b[1m from        \u001b[0m\u001b[1m to          \u001b[0m\u001b[1m from_LLA            \u001b[0m ⋯\n",
       "       │\u001b[90m Int64 \u001b[0m\u001b[90m Int64   \u001b[0m\u001b[90m Int64 \u001b[0m\u001b[90m Int64       \u001b[0m\u001b[90m Int64       \u001b[0m\u001b[90m String              \u001b[0m ⋯\n",
       "───────┼────────────────────────────────────────────────────────────────────────\n",
       "     1 │     1     9966   3276   6345928771   2334226606  LLA(50.9014778, 20.5 ⋯\n",
       "     2 │     2     7510   7511   3590345306   3590340944  LLA(50.8435448, 20.6\n",
       "     3 │     3     7511   7510   3590340944   3590345306  LLA(50.8435434, 20.6\n",
       "     4 │     4     2671    423   2085021154    417933782  LLA(50.8810815, 20.6\n",
       "     5 │     5      423   2671    417933782   2085021154  LLA(50.8807244, 20.6 ⋯\n",
       "     6 │     6    11664   2671   7818064507   2085021154  LLA(50.8811721, 20.6\n",
       "     7 │     7     2671  11664   2085021154   7818064507  LLA(50.8810815, 20.6\n",
       "     8 │     8    11008  11664   7243570383   7818064507  LLA(50.8813177, 20.6\n",
       "   ⋮   │   ⋮       ⋮       ⋮         ⋮            ⋮                      ⋮     ⋱\n",
       " 47379 │ 47379    15240  15239  10597786175   9392268077  LLA(50.8679881, 20.6 ⋯\n",
       " 47380 │ 47380    15241  15239   9392268084   9392268077  LLA(50.8688432, 20.6\n",
       " 47381 │ 47381    15239  15241   9392268077   9392268084  LLA(50.8684114, 20.6\n",
       " 47382 │ 47382    15477  15476   9411616082   9411616076  LLA(50.8715143, 20.6\n",
       " 47383 │ 47383    15476  15477   9411616076   9411616082  LLA(50.8710551, 20.6 ⋯\n",
       " 47384 │ 47384    13827  13826   9100506287   9100506288  LLA(50.9019071, 20.6\n",
       " 47385 │ 47385    13826  13827   9100506288   9100506287  LLA(50.901989, 20.67\n",
       "\u001b[36m                                                4 columns and 47370 rows omitted\u001b[0m, sparse([3439, 8190, 11552, 9469, 11552, 8492, 10082, 17906, 8497, 14723  …  22646, 22645, 11750, 22648, 22649, 22647, 11749, 22647, 22650, 22649], [1, 1, 1, 2, 2, 3, 3, 3, 4, 4  …  22645, 22646, 22647, 22647, 22647, 22648, 22649, 22649, 22649, 22650], [32526, 32521, 32527, 28211, 32530, 23868, 33997, 33996, 23877, 27478  …  39397, 39398, 30759, 12293, 30758, 12294, 30756, 30757, 14917, 14918], 22650, 22650), NearestNeighbors.KDTree{StaticArraysCore.SVector{2, Float64}, Distances.Euclidean, Float64, StaticArraysCore.SVector{2, Float64}}\n",
       "  Number of points: 22650\n",
       "  Dimensions: 2\n",
       "  Metric: Distances.Euclidean(0.0)\n",
       "  Reordered: false, [4060, 14028, 13136, 18436, 5066, 13700, 16085, 10671, 17306, 15677  …  10787, 19938, 4099, 2615, 7680, 17050, 8843, 15794, 435, 5111])"
      ]
     },
     "metadata": {},
     "output_type": "display_data"
    }
   ],
   "source": [
    "df, sparse_index, road_index, vals = OSMXGraph.create_road_graph(\"kielce_graph.csv\",\"kielce_nodes.json\",dir = dir_out)"
   ]
  },
  {
   "cell_type": "code",
   "execution_count": 27,
   "metadata": {},
   "outputs": [
    {
     "data": {
      "text/html": [
       "<div><div style = \"float: left;\"><span>12153×11 DataFrame</span></div><div style = \"float: right;\"><span style = \"font-style: italic;\">12128 rows omitted</span></div><div style = \"clear: both;\"></div></div><div class = \"data-frame\" style = \"overflow-x: scroll;\"><table class = \"data-frame\" style = \"margin-bottom: 6px;\"><thead><tr class = \"header\"><th class = \"rowNumber\" style = \"font-weight: bold; text-align: right;\">Row</th><th style = \"text-align: left;\">elemtype</th><th style = \"text-align: left;\">elemid</th><th style = \"text-align: left;\">nodeid</th><th style = \"text-align: left;\">lat</th><th style = \"text-align: left;\">lon</th><th style = \"text-align: left;\">key</th><th style = \"text-align: left;\">value</th><th style = \"text-align: left;\">group</th><th style = \"text-align: left;\">influence</th><th style = \"text-align: left;\">range</th><th style = \"text-align: left;\">nearest_road_node</th></tr><tr class = \"subheader headerLastRow\"><th class = \"rowNumber\" style = \"font-weight: bold; text-align: right;\"></th><th title = \"Symbol\" style = \"text-align: left;\">Symbol</th><th title = \"Int64\" style = \"text-align: left;\">Int64</th><th title = \"Int64\" style = \"text-align: left;\">Int64</th><th title = \"Float64\" style = \"text-align: left;\">Float64</th><th title = \"Float64\" style = \"text-align: left;\">Float64</th><th title = \"String\" style = \"text-align: left;\">String</th><th title = \"String\" style = \"text-align: left;\">String</th><th title = \"Symbol\" style = \"text-align: left;\">Symbol</th><th title = \"Float64\" style = \"text-align: left;\">Float64</th><th title = \"Float64\" style = \"text-align: left;\">Float64</th><th title = \"Int64\" style = \"text-align: left;\">Int64</th></tr></thead><tbody><tr><td class = \"rowNumber\" style = \"font-weight: bold; text-align: right;\">1</td><td style = \"text-align: left;\">node</td><td style = \"text-align: right;\">369695276</td><td style = \"text-align: right;\">369695276</td><td style = \"text-align: right;\">50.8966</td><td style = \"text-align: right;\">20.6625</td><td style = \"text-align: left;\">amenity</td><td style = \"text-align: left;\">parking</td><td style = \"text-align: left;\">parking</td><td style = \"text-align: right;\">5.0</td><td style = \"text-align: right;\">250.0</td><td style = \"text-align: right;\">1</td></tr><tr><td class = \"rowNumber\" style = \"font-weight: bold; text-align: right;\">2</td><td style = \"text-align: left;\">node</td><td style = \"text-align: right;\">369695276</td><td style = \"text-align: right;\">369695276</td><td style = \"text-align: right;\">50.8966</td><td style = \"text-align: right;\">20.6625</td><td style = \"text-align: left;\">parking</td><td style = \"text-align: left;\">surface</td><td style = \"text-align: left;\">parking</td><td style = \"text-align: right;\">5.0</td><td style = \"text-align: right;\">250.0</td><td style = \"text-align: right;\">1</td></tr><tr><td class = \"rowNumber\" style = \"font-weight: bold; text-align: right;\">3</td><td style = \"text-align: left;\">node</td><td style = \"text-align: right;\">417908677</td><td style = \"text-align: right;\">417908677</td><td style = \"text-align: right;\">50.87</td><td style = \"text-align: right;\">20.6317</td><td style = \"text-align: left;\">amenity</td><td style = \"text-align: left;\">bank</td><td style = \"text-align: left;\">shopping</td><td style = \"text-align: right;\">1.0</td><td style = \"text-align: right;\">750.0</td><td style = \"text-align: right;\">20563</td></tr><tr><td class = \"rowNumber\" style = \"font-weight: bold; text-align: right;\">4</td><td style = \"text-align: left;\">node</td><td style = \"text-align: right;\">417908747</td><td style = \"text-align: right;\">417908747</td><td style = \"text-align: right;\">50.8786</td><td style = \"text-align: right;\">20.6379</td><td style = \"text-align: left;\">amenity</td><td style = \"text-align: left;\">bank</td><td style = \"text-align: left;\">shopping</td><td style = \"text-align: right;\">1.0</td><td style = \"text-align: right;\">750.0</td><td style = \"text-align: right;\">6056</td></tr><tr><td class = \"rowNumber\" style = \"font-weight: bold; text-align: right;\">5</td><td style = \"text-align: left;\">node</td><td style = \"text-align: right;\">417909427</td><td style = \"text-align: right;\">417909427</td><td style = \"text-align: right;\">50.8183</td><td style = \"text-align: right;\">20.5504</td><td style = \"text-align: left;\">public_transport</td><td style = \"text-align: left;\">station</td><td style = \"text-align: left;\">transport</td><td style = \"text-align: right;\">5.0</td><td style = \"text-align: right;\">300.0</td><td style = \"text-align: right;\">9806</td></tr><tr><td class = \"rowNumber\" style = \"font-weight: bold; text-align: right;\">6</td><td style = \"text-align: left;\">node</td><td style = \"text-align: right;\">417909427</td><td style = \"text-align: right;\">417909427</td><td style = \"text-align: right;\">50.8183</td><td style = \"text-align: right;\">20.5504</td><td style = \"text-align: left;\">railway</td><td style = \"text-align: left;\">station</td><td style = \"text-align: left;\">transport</td><td style = \"text-align: right;\">10.0</td><td style = \"text-align: right;\">700.0</td><td style = \"text-align: right;\">9806</td></tr><tr><td class = \"rowNumber\" style = \"font-weight: bold; text-align: right;\">7</td><td style = \"text-align: left;\">node</td><td style = \"text-align: right;\">417910661</td><td style = \"text-align: right;\">417910661</td><td style = \"text-align: right;\">50.8712</td><td style = \"text-align: right;\">20.6032</td><td style = \"text-align: left;\">amenity</td><td style = \"text-align: left;\">clinic</td><td style = \"text-align: left;\">healthcare</td><td style = \"text-align: right;\">10.0</td><td style = \"text-align: right;\">500.0</td><td style = \"text-align: right;\">3683</td></tr><tr><td class = \"rowNumber\" style = \"font-weight: bold; text-align: right;\">8</td><td style = \"text-align: left;\">node</td><td style = \"text-align: right;\">417910661</td><td style = \"text-align: right;\">417910661</td><td style = \"text-align: right;\">50.8712</td><td style = \"text-align: right;\">20.6032</td><td style = \"text-align: left;\">healthcare</td><td style = \"text-align: left;\">hospital</td><td style = \"text-align: left;\">healthcare</td><td style = \"text-align: right;\">10.0</td><td style = \"text-align: right;\">500.0</td><td style = \"text-align: right;\">3683</td></tr><tr><td class = \"rowNumber\" style = \"font-weight: bold; text-align: right;\">9</td><td style = \"text-align: left;\">node</td><td style = \"text-align: right;\">417913682</td><td style = \"text-align: right;\">417913682</td><td style = \"text-align: right;\">50.8881</td><td style = \"text-align: right;\">20.6442</td><td style = \"text-align: left;\">public_transport</td><td style = \"text-align: left;\">stop_position</td><td style = \"text-align: left;\">transport</td><td style = \"text-align: right;\">5.0</td><td style = \"text-align: right;\">300.0</td><td style = \"text-align: right;\">10092</td></tr><tr><td class = \"rowNumber\" style = \"font-weight: bold; text-align: right;\">10</td><td style = \"text-align: left;\">node</td><td style = \"text-align: right;\">417917115</td><td style = \"text-align: right;\">417917115</td><td style = \"text-align: right;\">50.8603</td><td style = \"text-align: right;\">20.625</td><td style = \"text-align: left;\">leisure</td><td style = \"text-align: left;\">stadium</td><td style = \"text-align: left;\">leisure</td><td style = \"text-align: right;\">5.0</td><td style = \"text-align: right;\">800.0</td><td style = \"text-align: right;\">4731</td></tr><tr><td class = \"rowNumber\" style = \"font-weight: bold; text-align: right;\">11</td><td style = \"text-align: left;\">node</td><td style = \"text-align: right;\">417927149</td><td style = \"text-align: right;\">417927149</td><td style = \"text-align: right;\">50.8694</td><td style = \"text-align: right;\">20.6353</td><td style = \"text-align: left;\">amenity</td><td style = \"text-align: left;\">bank</td><td style = \"text-align: left;\">shopping</td><td style = \"text-align: right;\">1.0</td><td style = \"text-align: right;\">750.0</td><td style = \"text-align: right;\">16012</td></tr><tr><td class = \"rowNumber\" style = \"font-weight: bold; text-align: right;\">12</td><td style = \"text-align: left;\">node</td><td style = \"text-align: right;\">417927888</td><td style = \"text-align: right;\">417927888</td><td style = \"text-align: right;\">50.8871</td><td style = \"text-align: right;\">20.6642</td><td style = \"text-align: left;\">amenity</td><td style = \"text-align: left;\">fast_food</td><td style = \"text-align: left;\">fast_food</td><td style = \"text-align: right;\">5.0</td><td style = \"text-align: right;\">1000.0</td><td style = \"text-align: right;\">338</td></tr><tr><td class = \"rowNumber\" style = \"font-weight: bold; text-align: right;\">13</td><td style = \"text-align: left;\">node</td><td style = \"text-align: right;\">417928031</td><td style = \"text-align: right;\">417928031</td><td style = \"text-align: right;\">50.8643</td><td style = \"text-align: right;\">20.649</td><td style = \"text-align: left;\">tourism</td><td style = \"text-align: left;\">hostel</td><td style = \"text-align: left;\">leisure</td><td style = \"text-align: right;\">5.0</td><td style = \"text-align: right;\">1500.0</td><td style = \"text-align: right;\">16958</td></tr><tr><td style = \"text-align: right;\">&vellip;</td><td style = \"text-align: right;\">&vellip;</td><td style = \"text-align: right;\">&vellip;</td><td style = \"text-align: right;\">&vellip;</td><td style = \"text-align: right;\">&vellip;</td><td style = \"text-align: right;\">&vellip;</td><td style = \"text-align: right;\">&vellip;</td><td style = \"text-align: right;\">&vellip;</td><td style = \"text-align: right;\">&vellip;</td><td style = \"text-align: right;\">&vellip;</td><td style = \"text-align: right;\">&vellip;</td><td style = \"text-align: right;\">&vellip;</td></tr><tr><td class = \"rowNumber\" style = \"font-weight: bold; text-align: right;\">12142</td><td style = \"text-align: left;\">relation</td><td style = \"text-align: right;\">9859912</td><td style = \"text-align: right;\">6662107786</td><td style = \"text-align: right;\">50.8629</td><td style = \"text-align: right;\">20.6161</td><td style = \"text-align: left;\">amenity</td><td style = \"text-align: left;\">parking</td><td style = \"text-align: left;\">parking</td><td style = \"text-align: right;\">5.0</td><td style = \"text-align: right;\">250.0</td><td style = \"text-align: right;\">21306</td></tr><tr><td class = \"rowNumber\" style = \"font-weight: bold; text-align: right;\">12143</td><td style = \"text-align: left;\">relation</td><td style = \"text-align: right;\">9859912</td><td style = \"text-align: right;\">6662107786</td><td style = \"text-align: right;\">50.8629</td><td style = \"text-align: right;\">20.6161</td><td style = \"text-align: left;\">parking</td><td style = \"text-align: left;\">surface</td><td style = \"text-align: left;\">parking</td><td style = \"text-align: right;\">5.0</td><td style = \"text-align: right;\">250.0</td><td style = \"text-align: right;\">21306</td></tr><tr><td class = \"rowNumber\" style = \"font-weight: bold; text-align: right;\">12144</td><td style = \"text-align: left;\">relation</td><td style = \"text-align: right;\">9869728</td><td style = \"text-align: right;\">6668086312</td><td style = \"text-align: right;\">50.8684</td><td style = \"text-align: right;\">20.6245</td><td style = \"text-align: left;\">leisure</td><td style = \"text-align: left;\">park</td><td style = \"text-align: left;\">leisure</td><td style = \"text-align: right;\">5.0</td><td style = \"text-align: right;\">500.0</td><td style = \"text-align: right;\">120</td></tr><tr><td class = \"rowNumber\" style = \"font-weight: bold; text-align: right;\">12145</td><td style = \"text-align: left;\">relation</td><td style = \"text-align: right;\">9936812</td><td style = \"text-align: right;\">6720917878</td><td style = \"text-align: right;\">50.8691</td><td style = \"text-align: right;\">20.6266</td><td style = \"text-align: left;\">leisure</td><td style = \"text-align: left;\">garden</td><td style = \"text-align: left;\">leisure</td><td style = \"text-align: right;\">5.0</td><td style = \"text-align: right;\">500.0</td><td style = \"text-align: right;\">10565</td></tr><tr><td class = \"rowNumber\" style = \"font-weight: bold; text-align: right;\">12146</td><td style = \"text-align: left;\">relation</td><td style = \"text-align: right;\">9936813</td><td style = \"text-align: right;\">6720918034</td><td style = \"text-align: right;\">50.8693</td><td style = \"text-align: right;\">20.6266</td><td style = \"text-align: left;\">leisure</td><td style = \"text-align: left;\">garden</td><td style = \"text-align: left;\">leisure</td><td style = \"text-align: right;\">5.0</td><td style = \"text-align: right;\">500.0</td><td style = \"text-align: right;\">10565</td></tr><tr><td class = \"rowNumber\" style = \"font-weight: bold; text-align: right;\">12147</td><td style = \"text-align: left;\">relation</td><td style = \"text-align: right;\">9936814</td><td style = \"text-align: right;\">6720917870</td><td style = \"text-align: right;\">50.8693</td><td style = \"text-align: right;\">20.6268</td><td style = \"text-align: left;\">leisure</td><td style = \"text-align: left;\">garden</td><td style = \"text-align: left;\">leisure</td><td style = \"text-align: right;\">5.0</td><td style = \"text-align: right;\">500.0</td><td style = \"text-align: right;\">21880</td></tr><tr><td class = \"rowNumber\" style = \"font-weight: bold; text-align: right;\">12148</td><td style = \"text-align: left;\">relation</td><td style = \"text-align: right;\">9936815</td><td style = \"text-align: right;\">6720918234</td><td style = \"text-align: right;\">50.8691</td><td style = \"text-align: right;\">20.6268</td><td style = \"text-align: left;\">leisure</td><td style = \"text-align: left;\">garden</td><td style = \"text-align: left;\">leisure</td><td style = \"text-align: right;\">5.0</td><td style = \"text-align: right;\">500.0</td><td style = \"text-align: right;\">10565</td></tr><tr><td class = \"rowNumber\" style = \"font-weight: bold; text-align: right;\">12149</td><td style = \"text-align: left;\">relation</td><td style = \"text-align: right;\">9936956</td><td style = \"text-align: right;\">6720917847</td><td style = \"text-align: right;\">50.8692</td><td style = \"text-align: right;\">20.6262</td><td style = \"text-align: left;\">leisure</td><td style = \"text-align: left;\">garden</td><td style = \"text-align: left;\">leisure</td><td style = \"text-align: right;\">5.0</td><td style = \"text-align: right;\">500.0</td><td style = \"text-align: right;\">10565</td></tr><tr><td class = \"rowNumber\" style = \"font-weight: bold; text-align: right;\">12150</td><td style = \"text-align: left;\">relation</td><td style = \"text-align: right;\">13283576</td><td style = \"text-align: right;\">9139836684</td><td style = \"text-align: right;\">50.8799</td><td style = \"text-align: right;\">20.6438</td><td style = \"text-align: left;\">leisure</td><td style = \"text-align: left;\">track</td><td style = \"text-align: left;\">leisure</td><td style = \"text-align: right;\">5.0</td><td style = \"text-align: right;\">800.0</td><td style = \"text-align: right;\">7067</td></tr><tr><td class = \"rowNumber\" style = \"font-weight: bold; text-align: right;\">12151</td><td style = \"text-align: left;\">relation</td><td style = \"text-align: right;\">13290853</td><td style = \"text-align: right;\">9146410715</td><td style = \"text-align: right;\">50.8705</td><td style = \"text-align: right;\">20.6263</td><td style = \"text-align: left;\">leisure</td><td style = \"text-align: left;\">park</td><td style = \"text-align: left;\">leisure</td><td style = \"text-align: right;\">5.0</td><td style = \"text-align: right;\">500.0</td><td style = \"text-align: right;\">3459</td></tr><tr><td class = \"rowNumber\" style = \"font-weight: bold; text-align: right;\">12152</td><td style = \"text-align: left;\">relation</td><td style = \"text-align: right;\">15323137</td><td style = \"text-align: right;\">5605413543</td><td style = \"text-align: right;\">50.8849</td><td style = \"text-align: right;\">20.6546</td><td style = \"text-align: left;\">leisure</td><td style = \"text-align: left;\">park</td><td style = \"text-align: left;\">leisure</td><td style = \"text-align: right;\">5.0</td><td style = \"text-align: right;\">500.0</td><td style = \"text-align: right;\">565</td></tr><tr><td class = \"rowNumber\" style = \"font-weight: bold; text-align: right;\">12153</td><td style = \"text-align: left;\">relation</td><td style = \"text-align: right;\">17786947</td><td style = \"text-align: right;\">3574842421</td><td style = \"text-align: right;\">50.8658</td><td style = \"text-align: right;\">20.6388</td><td style = \"text-align: left;\">amenity</td><td style = \"text-align: left;\">marketplace</td><td style = \"text-align: left;\">shopping</td><td style = \"text-align: right;\">10.0</td><td style = \"text-align: right;\">800.0</td><td style = \"text-align: right;\">20820</td></tr></tbody></table></div>"
      ],
      "text/latex": [
       "\\begin{tabular}{r|cccccccc}\n",
       "\t& elemtype & elemid & nodeid & lat & lon & key & value & \\\\\n",
       "\t\\hline\n",
       "\t& Symbol & Int64 & Int64 & Float64 & Float64 & String & String & \\\\\n",
       "\t\\hline\n",
       "\t1 & node & 369695276 & 369695276 & 50.8966 & 20.6625 & amenity & parking & $\\dots$ \\\\\n",
       "\t2 & node & 369695276 & 369695276 & 50.8966 & 20.6625 & parking & surface & $\\dots$ \\\\\n",
       "\t3 & node & 417908677 & 417908677 & 50.87 & 20.6317 & amenity & bank & $\\dots$ \\\\\n",
       "\t4 & node & 417908747 & 417908747 & 50.8786 & 20.6379 & amenity & bank & $\\dots$ \\\\\n",
       "\t5 & node & 417909427 & 417909427 & 50.8183 & 20.5504 & public\\_transport & station & $\\dots$ \\\\\n",
       "\t6 & node & 417909427 & 417909427 & 50.8183 & 20.5504 & railway & station & $\\dots$ \\\\\n",
       "\t7 & node & 417910661 & 417910661 & 50.8712 & 20.6032 & amenity & clinic & $\\dots$ \\\\\n",
       "\t8 & node & 417910661 & 417910661 & 50.8712 & 20.6032 & healthcare & hospital & $\\dots$ \\\\\n",
       "\t9 & node & 417913682 & 417913682 & 50.8881 & 20.6442 & public\\_transport & stop\\_position & $\\dots$ \\\\\n",
       "\t10 & node & 417917115 & 417917115 & 50.8603 & 20.625 & leisure & stadium & $\\dots$ \\\\\n",
       "\t11 & node & 417927149 & 417927149 & 50.8694 & 20.6353 & amenity & bank & $\\dots$ \\\\\n",
       "\t12 & node & 417927888 & 417927888 & 50.8871 & 20.6642 & amenity & fast\\_food & $\\dots$ \\\\\n",
       "\t13 & node & 417928031 & 417928031 & 50.8643 & 20.649 & tourism & hostel & $\\dots$ \\\\\n",
       "\t14 & node & 602865151 & 602865151 & 50.8952 & 20.6626 & shop & supermarket & $\\dots$ \\\\\n",
       "\t15 & node & 652857081 & 652857081 & 50.8695 & 20.6536 & shop & supermarket & $\\dots$ \\\\\n",
       "\t16 & node & 706376309 & 706376309 & 50.8858 & 20.6375 & amenity & pharmacy & $\\dots$ \\\\\n",
       "\t17 & node & 857429343 & 857429343 & 50.8533 & 20.6102 & amenity & restaurant & $\\dots$ \\\\\n",
       "\t18 & node & 935789539 & 935789539 & 50.8826 & 20.5816 & amenity & atm & $\\dots$ \\\\\n",
       "\t19 & node & 935796239 & 935796239 & 50.8749 & 20.6188 & amenity & bank & $\\dots$ \\\\\n",
       "\t20 & node & 935797242 & 935797242 & 50.8747 & 20.6246 & amenity & atm & $\\dots$ \\\\\n",
       "\t21 & node & 935798238 & 935798238 & 50.8803 & 20.6475 & amenity & atm & $\\dots$ \\\\\n",
       "\t22 & node & 935799077 & 935799077 & 50.8841 & 20.5833 & amenity & atm & $\\dots$ \\\\\n",
       "\t23 & node & 935801880 & 935801880 & 50.8685 & 20.6412 & amenity & atm & $\\dots$ \\\\\n",
       "\t24 & node & 1059758190 & 1059758190 & 50.8913 & 20.6485 & shop & convenience & $\\dots$ \\\\\n",
       "\t$\\dots$ & $\\dots$ & $\\dots$ & $\\dots$ & $\\dots$ & $\\dots$ & $\\dots$ & $\\dots$ &  \\\\\n",
       "\\end{tabular}\n"
      ],
      "text/plain": [
       "\u001b[1m12153×11 DataFrame\u001b[0m\n",
       "\u001b[1m   Row \u001b[0m│\u001b[1m elemtype \u001b[0m\u001b[1m elemid    \u001b[0m\u001b[1m nodeid     \u001b[0m\u001b[1m lat     \u001b[0m\u001b[1m lon     \u001b[0m\u001b[1m key              \u001b[0m\u001b[1m \u001b[0m ⋯\n",
       "       │\u001b[90m Symbol   \u001b[0m\u001b[90m Int64     \u001b[0m\u001b[90m Int64      \u001b[0m\u001b[90m Float64 \u001b[0m\u001b[90m Float64 \u001b[0m\u001b[90m String           \u001b[0m\u001b[90m \u001b[0m ⋯\n",
       "───────┼────────────────────────────────────────────────────────────────────────\n",
       "     1 │ node      369695276   369695276  50.8966  20.6625  amenity            ⋯\n",
       "     2 │ node      369695276   369695276  50.8966  20.6625  parking\n",
       "     3 │ node      417908677   417908677  50.87    20.6317  amenity\n",
       "     4 │ node      417908747   417908747  50.8786  20.6379  amenity\n",
       "     5 │ node      417909427   417909427  50.8183  20.5504  public_transport   ⋯\n",
       "     6 │ node      417909427   417909427  50.8183  20.5504  railway\n",
       "     7 │ node      417910661   417910661  50.8712  20.6032  amenity\n",
       "     8 │ node      417910661   417910661  50.8712  20.6032  healthcare\n",
       "   ⋮   │    ⋮          ⋮          ⋮          ⋮        ⋮            ⋮           ⋱\n",
       " 12147 │ relation    9936814  6720917870  50.8693  20.6268  leisure            ⋯\n",
       " 12148 │ relation    9936815  6720918234  50.8691  20.6268  leisure\n",
       " 12149 │ relation    9936956  6720917847  50.8692  20.6262  leisure\n",
       " 12150 │ relation   13283576  9139836684  50.8799  20.6438  leisure\n",
       " 12151 │ relation   13290853  9146410715  50.8705  20.6263  leisure            ⋯\n",
       " 12152 │ relation   15323137  5605413543  50.8849  20.6546  leisure\n",
       " 12153 │ relation   17786947  3574842421  50.8658  20.6388  amenity\n",
       "\u001b[36m                                                5 columns and 12138 rows omitted\u001b[0m"
      ]
     },
     "metadata": {},
     "output_type": "display_data"
    }
   ],
   "source": [
    "POI_df"
   ]
  },
  {
   "cell_type": "code",
   "execution_count": 7,
   "metadata": {},
   "outputs": [
    {
     "data": {
      "text/plain": [
       "12153-element Vector{Float64}:\n",
       " 20.6624979\n",
       " 20.6624979\n",
       " 20.6317298\n",
       " 20.6379243\n",
       " 20.5504133\n",
       " 20.5504133\n",
       " 20.6032045\n",
       " 20.6032045\n",
       " 20.6441694\n",
       " 20.62503\n",
       "  ⋮\n",
       " 20.6265635\n",
       " 20.6266053\n",
       " 20.6268414\n",
       " 20.626801\n",
       " 20.6261999\n",
       " 20.6438375\n",
       " 20.6263202\n",
       " 20.6546343\n",
       " 20.6387949"
      ]
     },
     "metadata": {},
     "output_type": "display_data"
    }
   ],
   "source": [
    "scrp_config = OSMToolset.ScrapePOIConfig(DataFrame(CSV.File(scrape_config)))\n",
    "POI_df = OSMToolset.find_poi(string(\"../data/Kielce.osm\"),scrp_config)\n",
    "POI_xs = POI_df.lat\n",
    "POI_ys = POI_df.lon"
   ]
  },
  {
   "cell_type": "code",
   "execution_count": 8,
   "metadata": {},
   "outputs": [
    {
     "data": {
      "text/html": [
       "<div><div style = \"float: left;\"><span>12153×11 DataFrame</span></div><div style = \"float: right;\"><span style = \"font-style: italic;\">12128 rows omitted</span></div><div style = \"clear: both;\"></div></div><div class = \"data-frame\" style = \"overflow-x: scroll;\"><table class = \"data-frame\" style = \"margin-bottom: 6px;\"><thead><tr class = \"header\"><th class = \"rowNumber\" style = \"font-weight: bold; text-align: right;\">Row</th><th style = \"text-align: left;\">elemtype</th><th style = \"text-align: left;\">elemid</th><th style = \"text-align: left;\">nodeid</th><th style = \"text-align: left;\">lat</th><th style = \"text-align: left;\">lon</th><th style = \"text-align: left;\">key</th><th style = \"text-align: left;\">value</th><th style = \"text-align: left;\">group</th><th style = \"text-align: left;\">influence</th><th style = \"text-align: left;\">range</th><th style = \"text-align: left;\">nearest_road_node</th></tr><tr class = \"subheader headerLastRow\"><th class = \"rowNumber\" style = \"font-weight: bold; text-align: right;\"></th><th title = \"Symbol\" style = \"text-align: left;\">Symbol</th><th title = \"Int64\" style = \"text-align: left;\">Int64</th><th title = \"Int64\" style = \"text-align: left;\">Int64</th><th title = \"Float64\" style = \"text-align: left;\">Float64</th><th title = \"Float64\" style = \"text-align: left;\">Float64</th><th title = \"String\" style = \"text-align: left;\">String</th><th title = \"String\" style = \"text-align: left;\">String</th><th title = \"Symbol\" style = \"text-align: left;\">Symbol</th><th title = \"Float64\" style = \"text-align: left;\">Float64</th><th title = \"Float64\" style = \"text-align: left;\">Float64</th><th title = \"Int64\" style = \"text-align: left;\">Int64</th></tr></thead><tbody><tr><td class = \"rowNumber\" style = \"font-weight: bold; text-align: right;\">1</td><td style = \"text-align: left;\">node</td><td style = \"text-align: right;\">369695276</td><td style = \"text-align: right;\">369695276</td><td style = \"text-align: right;\">50.8966</td><td style = \"text-align: right;\">20.6625</td><td style = \"text-align: left;\">amenity</td><td style = \"text-align: left;\">parking</td><td style = \"text-align: left;\">parking</td><td style = \"text-align: right;\">5.0</td><td style = \"text-align: right;\">250.0</td><td style = \"text-align: right;\">1</td></tr><tr><td class = \"rowNumber\" style = \"font-weight: bold; text-align: right;\">2</td><td style = \"text-align: left;\">node</td><td style = \"text-align: right;\">369695276</td><td style = \"text-align: right;\">369695276</td><td style = \"text-align: right;\">50.8966</td><td style = \"text-align: right;\">20.6625</td><td style = \"text-align: left;\">parking</td><td style = \"text-align: left;\">surface</td><td style = \"text-align: left;\">parking</td><td style = \"text-align: right;\">5.0</td><td style = \"text-align: right;\">250.0</td><td style = \"text-align: right;\">1</td></tr><tr><td class = \"rowNumber\" style = \"font-weight: bold; text-align: right;\">3</td><td style = \"text-align: left;\">node</td><td style = \"text-align: right;\">417908677</td><td style = \"text-align: right;\">417908677</td><td style = \"text-align: right;\">50.87</td><td style = \"text-align: right;\">20.6317</td><td style = \"text-align: left;\">amenity</td><td style = \"text-align: left;\">bank</td><td style = \"text-align: left;\">shopping</td><td style = \"text-align: right;\">1.0</td><td style = \"text-align: right;\">750.0</td><td style = \"text-align: right;\">20563</td></tr><tr><td class = \"rowNumber\" style = \"font-weight: bold; text-align: right;\">4</td><td style = \"text-align: left;\">node</td><td style = \"text-align: right;\">417908747</td><td style = \"text-align: right;\">417908747</td><td style = \"text-align: right;\">50.8786</td><td style = \"text-align: right;\">20.6379</td><td style = \"text-align: left;\">amenity</td><td style = \"text-align: left;\">bank</td><td style = \"text-align: left;\">shopping</td><td style = \"text-align: right;\">1.0</td><td style = \"text-align: right;\">750.0</td><td style = \"text-align: right;\">6056</td></tr><tr><td class = \"rowNumber\" style = \"font-weight: bold; text-align: right;\">5</td><td style = \"text-align: left;\">node</td><td style = \"text-align: right;\">417909427</td><td style = \"text-align: right;\">417909427</td><td style = \"text-align: right;\">50.8183</td><td style = \"text-align: right;\">20.5504</td><td style = \"text-align: left;\">public_transport</td><td style = \"text-align: left;\">station</td><td style = \"text-align: left;\">transport</td><td style = \"text-align: right;\">5.0</td><td style = \"text-align: right;\">300.0</td><td style = \"text-align: right;\">9806</td></tr><tr><td class = \"rowNumber\" style = \"font-weight: bold; text-align: right;\">6</td><td style = \"text-align: left;\">node</td><td style = \"text-align: right;\">417909427</td><td style = \"text-align: right;\">417909427</td><td style = \"text-align: right;\">50.8183</td><td style = \"text-align: right;\">20.5504</td><td style = \"text-align: left;\">railway</td><td style = \"text-align: left;\">station</td><td style = \"text-align: left;\">transport</td><td style = \"text-align: right;\">10.0</td><td style = \"text-align: right;\">700.0</td><td style = \"text-align: right;\">9806</td></tr><tr><td class = \"rowNumber\" style = \"font-weight: bold; text-align: right;\">7</td><td style = \"text-align: left;\">node</td><td style = \"text-align: right;\">417910661</td><td style = \"text-align: right;\">417910661</td><td style = \"text-align: right;\">50.8712</td><td style = \"text-align: right;\">20.6032</td><td style = \"text-align: left;\">amenity</td><td style = \"text-align: left;\">clinic</td><td style = \"text-align: left;\">healthcare</td><td style = \"text-align: right;\">10.0</td><td style = \"text-align: right;\">500.0</td><td style = \"text-align: right;\">3683</td></tr><tr><td class = \"rowNumber\" style = \"font-weight: bold; text-align: right;\">8</td><td style = \"text-align: left;\">node</td><td style = \"text-align: right;\">417910661</td><td style = \"text-align: right;\">417910661</td><td style = \"text-align: right;\">50.8712</td><td style = \"text-align: right;\">20.6032</td><td style = \"text-align: left;\">healthcare</td><td style = \"text-align: left;\">hospital</td><td style = \"text-align: left;\">healthcare</td><td style = \"text-align: right;\">10.0</td><td style = \"text-align: right;\">500.0</td><td style = \"text-align: right;\">3683</td></tr><tr><td class = \"rowNumber\" style = \"font-weight: bold; text-align: right;\">9</td><td style = \"text-align: left;\">node</td><td style = \"text-align: right;\">417913682</td><td style = \"text-align: right;\">417913682</td><td style = \"text-align: right;\">50.8881</td><td style = \"text-align: right;\">20.6442</td><td style = \"text-align: left;\">public_transport</td><td style = \"text-align: left;\">stop_position</td><td style = \"text-align: left;\">transport</td><td style = \"text-align: right;\">5.0</td><td style = \"text-align: right;\">300.0</td><td style = \"text-align: right;\">10092</td></tr><tr><td class = \"rowNumber\" style = \"font-weight: bold; text-align: right;\">10</td><td style = \"text-align: left;\">node</td><td style = \"text-align: right;\">417917115</td><td style = \"text-align: right;\">417917115</td><td style = \"text-align: right;\">50.8603</td><td style = \"text-align: right;\">20.625</td><td style = \"text-align: left;\">leisure</td><td style = \"text-align: left;\">stadium</td><td style = \"text-align: left;\">leisure</td><td style = \"text-align: right;\">5.0</td><td style = \"text-align: right;\">800.0</td><td style = \"text-align: right;\">4731</td></tr><tr><td class = \"rowNumber\" style = \"font-weight: bold; text-align: right;\">11</td><td style = \"text-align: left;\">node</td><td style = \"text-align: right;\">417927149</td><td style = \"text-align: right;\">417927149</td><td style = \"text-align: right;\">50.8694</td><td style = \"text-align: right;\">20.6353</td><td style = \"text-align: left;\">amenity</td><td style = \"text-align: left;\">bank</td><td style = \"text-align: left;\">shopping</td><td style = \"text-align: right;\">1.0</td><td style = \"text-align: right;\">750.0</td><td style = \"text-align: right;\">16012</td></tr><tr><td class = \"rowNumber\" style = \"font-weight: bold; text-align: right;\">12</td><td style = \"text-align: left;\">node</td><td style = \"text-align: right;\">417927888</td><td style = \"text-align: right;\">417927888</td><td style = \"text-align: right;\">50.8871</td><td style = \"text-align: right;\">20.6642</td><td style = \"text-align: left;\">amenity</td><td style = \"text-align: left;\">fast_food</td><td style = \"text-align: left;\">fast_food</td><td style = \"text-align: right;\">5.0</td><td style = \"text-align: right;\">1000.0</td><td style = \"text-align: right;\">338</td></tr><tr><td class = \"rowNumber\" style = \"font-weight: bold; text-align: right;\">13</td><td style = \"text-align: left;\">node</td><td style = \"text-align: right;\">417928031</td><td style = \"text-align: right;\">417928031</td><td style = \"text-align: right;\">50.8643</td><td style = \"text-align: right;\">20.649</td><td style = \"text-align: left;\">tourism</td><td style = \"text-align: left;\">hostel</td><td style = \"text-align: left;\">leisure</td><td style = \"text-align: right;\">5.0</td><td style = \"text-align: right;\">1500.0</td><td style = \"text-align: right;\">16958</td></tr><tr><td style = \"text-align: right;\">&vellip;</td><td style = \"text-align: right;\">&vellip;</td><td style = \"text-align: right;\">&vellip;</td><td style = \"text-align: right;\">&vellip;</td><td style = \"text-align: right;\">&vellip;</td><td style = \"text-align: right;\">&vellip;</td><td style = \"text-align: right;\">&vellip;</td><td style = \"text-align: right;\">&vellip;</td><td style = \"text-align: right;\">&vellip;</td><td style = \"text-align: right;\">&vellip;</td><td style = \"text-align: right;\">&vellip;</td><td style = \"text-align: right;\">&vellip;</td></tr><tr><td class = \"rowNumber\" style = \"font-weight: bold; text-align: right;\">12142</td><td style = \"text-align: left;\">relation</td><td style = \"text-align: right;\">9859912</td><td style = \"text-align: right;\">6662107786</td><td style = \"text-align: right;\">50.8629</td><td style = \"text-align: right;\">20.6161</td><td style = \"text-align: left;\">amenity</td><td style = \"text-align: left;\">parking</td><td style = \"text-align: left;\">parking</td><td style = \"text-align: right;\">5.0</td><td style = \"text-align: right;\">250.0</td><td style = \"text-align: right;\">21306</td></tr><tr><td class = \"rowNumber\" style = \"font-weight: bold; text-align: right;\">12143</td><td style = \"text-align: left;\">relation</td><td style = \"text-align: right;\">9859912</td><td style = \"text-align: right;\">6662107786</td><td style = \"text-align: right;\">50.8629</td><td style = \"text-align: right;\">20.6161</td><td style = \"text-align: left;\">parking</td><td style = \"text-align: left;\">surface</td><td style = \"text-align: left;\">parking</td><td style = \"text-align: right;\">5.0</td><td style = \"text-align: right;\">250.0</td><td style = \"text-align: right;\">21306</td></tr><tr><td class = \"rowNumber\" style = \"font-weight: bold; text-align: right;\">12144</td><td style = \"text-align: left;\">relation</td><td style = \"text-align: right;\">9869728</td><td style = \"text-align: right;\">6668086312</td><td style = \"text-align: right;\">50.8684</td><td style = \"text-align: right;\">20.6245</td><td style = \"text-align: left;\">leisure</td><td style = \"text-align: left;\">park</td><td style = \"text-align: left;\">leisure</td><td style = \"text-align: right;\">5.0</td><td style = \"text-align: right;\">500.0</td><td style = \"text-align: right;\">120</td></tr><tr><td class = \"rowNumber\" style = \"font-weight: bold; text-align: right;\">12145</td><td style = \"text-align: left;\">relation</td><td style = \"text-align: right;\">9936812</td><td style = \"text-align: right;\">6720917878</td><td style = \"text-align: right;\">50.8691</td><td style = \"text-align: right;\">20.6266</td><td style = \"text-align: left;\">leisure</td><td style = \"text-align: left;\">garden</td><td style = \"text-align: left;\">leisure</td><td style = \"text-align: right;\">5.0</td><td style = \"text-align: right;\">500.0</td><td style = \"text-align: right;\">10565</td></tr><tr><td class = \"rowNumber\" style = \"font-weight: bold; text-align: right;\">12146</td><td style = \"text-align: left;\">relation</td><td style = \"text-align: right;\">9936813</td><td style = \"text-align: right;\">6720918034</td><td style = \"text-align: right;\">50.8693</td><td style = \"text-align: right;\">20.6266</td><td style = \"text-align: left;\">leisure</td><td style = \"text-align: left;\">garden</td><td style = \"text-align: left;\">leisure</td><td style = \"text-align: right;\">5.0</td><td style = \"text-align: right;\">500.0</td><td style = \"text-align: right;\">10565</td></tr><tr><td class = \"rowNumber\" style = \"font-weight: bold; text-align: right;\">12147</td><td style = \"text-align: left;\">relation</td><td style = \"text-align: right;\">9936814</td><td style = \"text-align: right;\">6720917870</td><td style = \"text-align: right;\">50.8693</td><td style = \"text-align: right;\">20.6268</td><td style = \"text-align: left;\">leisure</td><td style = \"text-align: left;\">garden</td><td style = \"text-align: left;\">leisure</td><td style = \"text-align: right;\">5.0</td><td style = \"text-align: right;\">500.0</td><td style = \"text-align: right;\">21880</td></tr><tr><td class = \"rowNumber\" style = \"font-weight: bold; text-align: right;\">12148</td><td style = \"text-align: left;\">relation</td><td style = \"text-align: right;\">9936815</td><td style = \"text-align: right;\">6720918234</td><td style = \"text-align: right;\">50.8691</td><td style = \"text-align: right;\">20.6268</td><td style = \"text-align: left;\">leisure</td><td style = \"text-align: left;\">garden</td><td style = \"text-align: left;\">leisure</td><td style = \"text-align: right;\">5.0</td><td style = \"text-align: right;\">500.0</td><td style = \"text-align: right;\">10565</td></tr><tr><td class = \"rowNumber\" style = \"font-weight: bold; text-align: right;\">12149</td><td style = \"text-align: left;\">relation</td><td style = \"text-align: right;\">9936956</td><td style = \"text-align: right;\">6720917847</td><td style = \"text-align: right;\">50.8692</td><td style = \"text-align: right;\">20.6262</td><td style = \"text-align: left;\">leisure</td><td style = \"text-align: left;\">garden</td><td style = \"text-align: left;\">leisure</td><td style = \"text-align: right;\">5.0</td><td style = \"text-align: right;\">500.0</td><td style = \"text-align: right;\">10565</td></tr><tr><td class = \"rowNumber\" style = \"font-weight: bold; text-align: right;\">12150</td><td style = \"text-align: left;\">relation</td><td style = \"text-align: right;\">13283576</td><td style = \"text-align: right;\">9139836684</td><td style = \"text-align: right;\">50.8799</td><td style = \"text-align: right;\">20.6438</td><td style = \"text-align: left;\">leisure</td><td style = \"text-align: left;\">track</td><td style = \"text-align: left;\">leisure</td><td style = \"text-align: right;\">5.0</td><td style = \"text-align: right;\">800.0</td><td style = \"text-align: right;\">7067</td></tr><tr><td class = \"rowNumber\" style = \"font-weight: bold; text-align: right;\">12151</td><td style = \"text-align: left;\">relation</td><td style = \"text-align: right;\">13290853</td><td style = \"text-align: right;\">9146410715</td><td style = \"text-align: right;\">50.8705</td><td style = \"text-align: right;\">20.6263</td><td style = \"text-align: left;\">leisure</td><td style = \"text-align: left;\">park</td><td style = \"text-align: left;\">leisure</td><td style = \"text-align: right;\">5.0</td><td style = \"text-align: right;\">500.0</td><td style = \"text-align: right;\">3459</td></tr><tr><td class = \"rowNumber\" style = \"font-weight: bold; text-align: right;\">12152</td><td style = \"text-align: left;\">relation</td><td style = \"text-align: right;\">15323137</td><td style = \"text-align: right;\">5605413543</td><td style = \"text-align: right;\">50.8849</td><td style = \"text-align: right;\">20.6546</td><td style = \"text-align: left;\">leisure</td><td style = \"text-align: left;\">park</td><td style = \"text-align: left;\">leisure</td><td style = \"text-align: right;\">5.0</td><td style = \"text-align: right;\">500.0</td><td style = \"text-align: right;\">565</td></tr><tr><td class = \"rowNumber\" style = \"font-weight: bold; text-align: right;\">12153</td><td style = \"text-align: left;\">relation</td><td style = \"text-align: right;\">17786947</td><td style = \"text-align: right;\">3574842421</td><td style = \"text-align: right;\">50.8658</td><td style = \"text-align: right;\">20.6388</td><td style = \"text-align: left;\">amenity</td><td style = \"text-align: left;\">marketplace</td><td style = \"text-align: left;\">shopping</td><td style = \"text-align: right;\">10.0</td><td style = \"text-align: right;\">800.0</td><td style = \"text-align: right;\">20820</td></tr></tbody></table></div>"
      ],
      "text/latex": [
       "\\begin{tabular}{r|cccccccc}\n",
       "\t& elemtype & elemid & nodeid & lat & lon & key & value & \\\\\n",
       "\t\\hline\n",
       "\t& Symbol & Int64 & Int64 & Float64 & Float64 & String & String & \\\\\n",
       "\t\\hline\n",
       "\t1 & node & 369695276 & 369695276 & 50.8966 & 20.6625 & amenity & parking & $\\dots$ \\\\\n",
       "\t2 & node & 369695276 & 369695276 & 50.8966 & 20.6625 & parking & surface & $\\dots$ \\\\\n",
       "\t3 & node & 417908677 & 417908677 & 50.87 & 20.6317 & amenity & bank & $\\dots$ \\\\\n",
       "\t4 & node & 417908747 & 417908747 & 50.8786 & 20.6379 & amenity & bank & $\\dots$ \\\\\n",
       "\t5 & node & 417909427 & 417909427 & 50.8183 & 20.5504 & public\\_transport & station & $\\dots$ \\\\\n",
       "\t6 & node & 417909427 & 417909427 & 50.8183 & 20.5504 & railway & station & $\\dots$ \\\\\n",
       "\t7 & node & 417910661 & 417910661 & 50.8712 & 20.6032 & amenity & clinic & $\\dots$ \\\\\n",
       "\t8 & node & 417910661 & 417910661 & 50.8712 & 20.6032 & healthcare & hospital & $\\dots$ \\\\\n",
       "\t9 & node & 417913682 & 417913682 & 50.8881 & 20.6442 & public\\_transport & stop\\_position & $\\dots$ \\\\\n",
       "\t10 & node & 417917115 & 417917115 & 50.8603 & 20.625 & leisure & stadium & $\\dots$ \\\\\n",
       "\t11 & node & 417927149 & 417927149 & 50.8694 & 20.6353 & amenity & bank & $\\dots$ \\\\\n",
       "\t12 & node & 417927888 & 417927888 & 50.8871 & 20.6642 & amenity & fast\\_food & $\\dots$ \\\\\n",
       "\t13 & node & 417928031 & 417928031 & 50.8643 & 20.649 & tourism & hostel & $\\dots$ \\\\\n",
       "\t14 & node & 602865151 & 602865151 & 50.8952 & 20.6626 & shop & supermarket & $\\dots$ \\\\\n",
       "\t15 & node & 652857081 & 652857081 & 50.8695 & 20.6536 & shop & supermarket & $\\dots$ \\\\\n",
       "\t16 & node & 706376309 & 706376309 & 50.8858 & 20.6375 & amenity & pharmacy & $\\dots$ \\\\\n",
       "\t17 & node & 857429343 & 857429343 & 50.8533 & 20.6102 & amenity & restaurant & $\\dots$ \\\\\n",
       "\t18 & node & 935789539 & 935789539 & 50.8826 & 20.5816 & amenity & atm & $\\dots$ \\\\\n",
       "\t19 & node & 935796239 & 935796239 & 50.8749 & 20.6188 & amenity & bank & $\\dots$ \\\\\n",
       "\t20 & node & 935797242 & 935797242 & 50.8747 & 20.6246 & amenity & atm & $\\dots$ \\\\\n",
       "\t21 & node & 935798238 & 935798238 & 50.8803 & 20.6475 & amenity & atm & $\\dots$ \\\\\n",
       "\t22 & node & 935799077 & 935799077 & 50.8841 & 20.5833 & amenity & atm & $\\dots$ \\\\\n",
       "\t23 & node & 935801880 & 935801880 & 50.8685 & 20.6412 & amenity & atm & $\\dots$ \\\\\n",
       "\t24 & node & 1059758190 & 1059758190 & 50.8913 & 20.6485 & shop & convenience & $\\dots$ \\\\\n",
       "\t$\\dots$ & $\\dots$ & $\\dots$ & $\\dots$ & $\\dots$ & $\\dots$ & $\\dots$ & $\\dots$ &  \\\\\n",
       "\\end{tabular}\n"
      ],
      "text/plain": [
       "\u001b[1m12153×11 DataFrame\u001b[0m\n",
       "\u001b[1m   Row \u001b[0m│\u001b[1m elemtype \u001b[0m\u001b[1m elemid    \u001b[0m\u001b[1m nodeid     \u001b[0m\u001b[1m lat     \u001b[0m\u001b[1m lon     \u001b[0m\u001b[1m key              \u001b[0m\u001b[1m \u001b[0m ⋯\n",
       "       │\u001b[90m Symbol   \u001b[0m\u001b[90m Int64     \u001b[0m\u001b[90m Int64      \u001b[0m\u001b[90m Float64 \u001b[0m\u001b[90m Float64 \u001b[0m\u001b[90m String           \u001b[0m\u001b[90m \u001b[0m ⋯\n",
       "───────┼────────────────────────────────────────────────────────────────────────\n",
       "     1 │ node      369695276   369695276  50.8966  20.6625  amenity            ⋯\n",
       "     2 │ node      369695276   369695276  50.8966  20.6625  parking\n",
       "     3 │ node      417908677   417908677  50.87    20.6317  amenity\n",
       "     4 │ node      417908747   417908747  50.8786  20.6379  amenity\n",
       "     5 │ node      417909427   417909427  50.8183  20.5504  public_transport   ⋯\n",
       "     6 │ node      417909427   417909427  50.8183  20.5504  railway\n",
       "     7 │ node      417910661   417910661  50.8712  20.6032  amenity\n",
       "     8 │ node      417910661   417910661  50.8712  20.6032  healthcare\n",
       "   ⋮   │    ⋮          ⋮          ⋮          ⋮        ⋮            ⋮           ⋱\n",
       " 12147 │ relation    9936814  6720917870  50.8693  20.6268  leisure            ⋯\n",
       " 12148 │ relation    9936815  6720918234  50.8691  20.6268  leisure\n",
       " 12149 │ relation    9936956  6720917847  50.8692  20.6262  leisure\n",
       " 12150 │ relation   13283576  9139836684  50.8799  20.6438  leisure\n",
       " 12151 │ relation   13290853  9146410715  50.8705  20.6263  leisure            ⋯\n",
       " 12152 │ relation   15323137  5605413543  50.8849  20.6546  leisure\n",
       " 12153 │ relation   17786947  3574842421  50.8658  20.6388  amenity\n",
       "\u001b[36m                                                5 columns and 12138 rows omitted\u001b[0m"
      ]
     },
     "metadata": {},
     "output_type": "display_data"
    }
   ],
   "source": [
    "poi_with_nearest_points = OSMXGraph.add_nearest_road_point(POI_df,POI_xs, POI_ys, road_index, vals)"
   ]
  },
  {
   "cell_type": "code",
   "execution_count": 9,
   "metadata": {},
   "outputs": [
    {
     "data": {
      "text/plain": [
       "\"../graph_results/poi_with_nearest_points.csv\""
      ]
     },
     "metadata": {},
     "output_type": "display_data"
    }
   ],
   "source": [
    "save_file(poi_with_nearest_points,\"poi_with_nearest_points.csv\",dir=dir_out)"
   ]
  }
 ],
 "metadata": {
  "kernelspec": {
   "display_name": "Julia 1.10.4",
   "language": "julia",
   "name": "julia-1.10"
  },
  "language_info": {
   "file_extension": ".jl",
   "mimetype": "application/julia",
   "name": "julia",
   "version": "1.10.4"
  }
 },
 "nbformat": 4,
 "nbformat_minor": 2
}
