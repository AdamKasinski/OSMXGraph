{
 "cells": [
  {
   "cell_type": "markdown",
   "metadata": {},
   "source": [
    "The `OSMXGraph` module is designed to parse OSM format files into the following structures:\n",
    "\n",
    "1. A road network graph represented as an adjacency matrix.\n",
    "2. A dataframe containing metadata for both road nodes and roadways.\n",
    "3. A dataframe with the location of points of interests, their metadata, and information about the nearest road graph node.\n",
    "\n",
    "## Road Network Graph\n",
    "\n",
    "The road network graph is stored as a sparse adjacency matrix, where each pair of node IDs is mapped to a corresponding road ID. The node and way IDs can then be mapped to a dataframe containing metadata about the nodes and roads.\n",
    "\n",
    "## Dataframe for Graph Metadata\n",
    "\n",
    "The dataframe contains metadata for both road nodes and roadways. Each row of the structure represents a one-way road. The dataframe has the following columns:\n",
    "\n",
    "- **id**: Road's ID.\n",
    "- **from_id**: ID of the node that is the starting point of the road. The ID corresponds to the node ID in the road network graph and ID in the POI dataframe.\n",
    "- **to_id**: ID of the node that is the endpoint of the road. The ID corresponds to the node ID in the road network graph and ID in the POI dataframe.  \n",
    "- **from**: ID of the node that is the starting point of the road. The ID corresponds to the node ID in the OSM file.\n",
    "- **to**: ID of the node that is the endpoint of the road. The ID corresponds to the node ID in the OSM file.\n",
    "- **from_LLA**: Location of the starting point of the road in geodetic metric.\n",
    "- **to_LLA**: Location of the endpoint of the road in geodetic coordinates.\n",
    "- **way**: Road's ID in the OSM file.\n",
    "- **type**: Road's type.\n",
    "\n",
    "## Dataframe for POI\n",
    "\n",
    "The dataframe contains locations of points of interest, their metadata, and the location of the nearest road node. The structure is based on the OSMToolset POI dataframe. The module extends this structure by adding the ID of the nearest road's node.\n",
    "\n",
    "## Overview of the Graph Building Process"
   ]
  },
  {
   "cell_type": "code",
   "execution_count": 10,
   "metadata": {},
   "outputs": [
    {
     "name": "stderr",
     "output_type": "stream",
     "text": [
      "WARNING: replacing module OSMXGraph.\n"
     ]
    },
    {
     "data": {
      "text/plain": [
       "\"../data\""
      ]
     },
     "metadata": {},
     "output_type": "display_data"
    }
   ],
   "source": [
    "include(\"../src/OSMXGraph.jl\")\n",
    "using .OSMXGraph\n",
    "using OSMToolset\n",
    "using OpenStreetMapX\n",
    "\n",
    "dir_in = \"../data\"\n",
    "road_types = [\"motorway\", \"trunk\", \"primary\", \"secondary\", \n",
    "            \"tertiary\", \"residential\", \"service\", \"living_street\", \n",
    "            \"motorway_link\", \"trunk_link\", \"primary_link\", \"secondary_link\", \n",
    "            \"tertiary_link\"] \n",
    "osm_file = \"Warszawa.osm\"\n",
    "graph_file_name = \"Warszawa_graph.csv\"\n",
    "node_file_name = \"Warszawa_nodes.json\"\n",
    "dir_in=dir_in"
   ]
  },
  {
   "cell_type": "markdown",
   "metadata": {},
   "source": [
    "### 1. Filtering ways\n",
    "The First step in creating graph is filtering the vector of 'Way' objects. The 'Way' \n",
    "structure in OSM files is a vector that represents more types of objects than just roads.\n",
    "The 'filter ways' function filters the vector of 'Way' objects to retain only roads with \n",
    "hierarchy types specified by user.  "
   ]
  },
  {
   "cell_type": "code",
   "execution_count": 12,
   "metadata": {},
   "outputs": [
    {
     "data": {
      "text/plain": [
       "125255-element Vector{Way}:\n",
       " Way(4307329, [2448759046, 7093785352, 2452307268, 1439574696], Dict(\"name:etymology:wikidata\" => \"Q5441838\", \"surface\" => \"asphalt\", \"name\" => \"Rondo Feliksa Stamma\", \"sidewalk:right\" => \"separate\", \"wikidata\" => \"Q113528575\", \"lit\" => \"yes\", \"highway\" => \"tertiary\", \"cycleway:both\" => \"no\", \"junction\" => \"roundabout\", \"sidewalk:left\" => \"no\"…))\n",
       " Way(4307330, [26063923, 26063924, 9900672046, 7093724913, 26063925, 4770319996, 7554494461, 9442368604, 11303130233, 11303232206, 9220363525, 9982770288], Dict(\"lit\" => \"yes\", \"name\" => \"Bokserska\", \"source:maxspeed\" => \"PL:urban\", \"highway\" => \"tertiary\", \"lanes\" => \"2\", \"maxspeed\" => \"50\", \"surface\" => \"asphalt\", \"wikidata\" => \"Q106807412\"))\n",
       " Way(4308966, [3387797238, 9252948452], Dict(\"cycleway:left\" => \"no\", \"cycleway:right\" => \"separate\", \"lit\" => \"yes\", \"name\" => \"Postępu\", \"highway\" => \"tertiary\", \"lanes\" => \"2\", \"sidewalk\" => \"separate\", \"maxspeed\" => \"50\", \"surface\" => \"asphalt\", \"wikidata\" => \"Q63188829\"…))\n",
       " Way(4308978, [3576562134, 8961134644, 9936189679, 4972766762, 26083936, 3705172931, 3576562138, 9035856380, 427569388, 9035856661, 427569361, 427569362, 260821813, 427569360, 9035856642, 260821818, 9035856643, 9035856663, 4972766763, 260821819], Dict(\"lit\" => \"yes\", \"highway\" => \"residential\", \"surface\" => \"asphalt\", \"noname\" => \"yes\"))\n",
       " Way(4308979, [26083933, 4439989380, 3024770845, 8677742938, 9281835433, 9934684736, 10692999753, 1147905901, 1147905852, 8975524567, 26083935], Dict(\"highway\" => \"residential\", \"sidewalk\" => \"separate\", \"surface\" => \"asphalt\", \"noname\" => \"yes\"))\n",
       " Way(4308980, [26083939, 427569365, 3024770846, 9281835907, 26083947], Dict(\"lit\" => \"yes\", \"name\" => \"Jana Zaorskiego\", \"sidewalk:left\" => \"no\", \"oneway\" => \"yes\", \"sidewalk:right\" => \"separate\", \"highway\" => \"residential\", \"lanes\" => \"1\", \"surface\" => \"asphalt\"))\n",
       " Way(4311409, [26118471, 5497651232, 26118470], Dict(\"lit\" => \"yes\", \"name\" => \"Lekarska\", \"wikipedia\" => \"pl:Ulica Lekarska w Warszawie\", \"source:maxspeed\" => \"PL:urban\", \"highway\" => \"residential\", \"sidewalk\" => \"separate\", \"maxspeed\" => \"50\", \"surface\" => \"paving_stones\", \"wikidata\" => \"Q9365564\"))\n",
       " Way(4311413, [26118469, 2622408012, 7112750490, 3625461662, 1143264190], Dict(\"lanes:backward\" => \"2\", \"oneway\" => \"no\", \"lanes\" => \"3\", \"surface\" => \"asphalt\", \"name\" => \"Domaniewska\", \"shoulder\" => \"no\", \"wikipedia\" => \"pl:Ulica Domaniewska w Warszawie\", \"turn:lanes:backward\" => \"left|through;right\", \"wikidata\" => \"Q9365072\", \"lit\" => \"yes\"…))\n",
       " Way(4317241, [308139025, 7347082542, 8957623219, 333621823, 9252948455, 8902395886], Dict(\"smoothness\" => \"intermediate\", \"lanes\" => \"2\", \"surface\" => \"asphalt\", \"cycleway:right\" => \"no\", \"name\" => \"Konstruktorska\", \"wikidata\" => \"Q106820594\", \"cycleway:left\" => \"separate\", \"lit\" => \"yes\", \"highway\" => \"tertiary\", \"sidewalk\" => \"separate\"…))\n",
       " Way(4317242, [31907522, 6142589016], Dict(\"parking:lane:both\" => \"no\", \"oneway\" => \"yes\", \"smoothness\" => \"excellent\", \"lanes\" => \"2\", \"source:maxaxleload\" => \"Rozporządznie Ministra Infrastruktury z dnia 8 czerwca 2011 r\", \"surface\" => \"asphalt\", \"name\" => \"Marynarska\", \"wikipedia\" => \"pl:Ulica Marynarska w Warszawie\", \"layer\" => \"1\", \"maxaxleload\" => \"10\"…))\n",
       " ⋮\n",
       " Way(1342716557, [248200297, 12423090707, 12422440050], Dict(\"highway\" => \"service\", \"service\" => \"driveway\", \"surface\" => \"paving_stones\"))\n",
       " Way(1342719151, [4396279250, 2639601967, 4396283591, 11062250419, 4396302817, 4396302805], Dict(\"source:maxspeed\" => \"PL:living_street\", \"highway\" => \"living_street\", \"maxspeed\" => \"20\", \"service\" => \"driveway\", \"surface\" => \"paving_stones\"))\n",
       " Way(1342719152, [1280172934, 12423091895], Dict(\"highway\" => \"living_street\", \"service\" => \"driveway\", \"surface\" => \"asphalt\"))\n",
       " Way(1342719420, [4396302805, 11062250428], Dict(\"source:maxspeed\" => \"PL:living_street\", \"highway\" => \"service\", \"maxspeed\" => \"20\", \"service\" => \"driveway\", \"surface\" => \"paving_stones\"))\n",
       " Way(1342719851, [2639601969, 12423100325], Dict(\"highway\" => \"service\", \"service\" => \"parking_aisle\", \"surface\" => \"asphalt\"))\n",
       " Way(1342751106, [12423409606, 12423409607, 12423409609, 12423409608], Dict(\"highway\" => \"service\"))\n",
       " Way(1342751107, [12423409609, 12423409610], Dict(\"highway\" => \"service\"))\n",
       " Way(1342756025, [9233080609, 878588820, 9676989913, 11702531501], Dict(\"parking:left:orientation\" => \"parallel\", \"parking:right\" => \"no\", \"parking:left\" => \"street_side\", \"highway\" => \"service\", \"lanes\" => \"2\", \"access\" => \"private\", \"surface\" => \"paving_stones\"))\n",
       " Way(1342756026, [2448189735, 9233080608], Dict(\"parking:left:orientation\" => \"parallel\", \"parking:right\" => \"no\", \"oneway\" => \"yes\", \"parking:left\" => \"street_side\", \"highway\" => \"service\", \"lanes\" => \"2\", \"access\" => \"private\", \"surface\" => \"paving_stones\"))"
      ]
     },
     "metadata": {},
     "output_type": "display_data"
    }
   ],
   "source": [
    "parsed = OpenStreetMapX.parseOSM(string(dir_in,\"/\",osm_file))\n",
    "ways = parsed.ways\n",
    "filtered_ways = OSMXGraph.filter_ways(ways,road_types)"
   ]
  },
  {
   "cell_type": "markdown",
   "metadata": {},
   "source": [
    "### 2. Finding nodes and edges\n",
    "The step is performed based on filtered roadway vector. The function 'find intersaction' \n",
    "iterates through all roads and their nodes. A road point is considered a graph node \n",
    "if it is a starting or ending point of a road or if the it is an intersecion of \n",
    "roads (i.e, the function has already encountered the point during the iteration). As a result, \n",
    "each roadway retains only those points that are starting/ending points or \n",
    "intersections. Edges are created in the 'ways\\_to\\_edges' function by pairing the nearest \n",
    "nodes. Edges represent one-way roads, so if a road is bidirectional, the roadway is \n",
    "split into one-directional ways. "
   ]
  },
  {
   "cell_type": "code",
   "execution_count": 13,
   "metadata": {},
   "outputs": [
    {
     "data": {
      "text/plain": [
       "362340-element Vector{Main.OSMXGraph.Edge}:\n",
       " Main.OSMXGraph.Edge(1, 63583, 2053, 4978125632, 1181144372, LLA(52.2566118, 21.0331274, 0.0), LLA(52.2566598, 21.0331933, 0.0), 451965551, \"tertiary\")\n",
       " Main.OSMXGraph.Edge(2, 34902, 34901, 1949648310, 9265228166, LLA(52.2159197, 20.979194, 0.0), LLA(52.2154663, 20.9783547, 0.0), 184475036, \"service\")\n",
       " Main.OSMXGraph.Edge(3, 34901, 34902, 9265228166, 1949648310, LLA(52.2154663, 20.9783547, 0.0), LLA(52.2159197, 20.979194, 0.0), 184475036, \"service\")\n",
       " Main.OSMXGraph.Edge(4, 89783, 10564, 8213623939, 1495256494, LLA(52.2757071, 21.0658142, 0.0), LLA(52.2767636, 21.0666679, 0.0), 29448268, \"service\")\n",
       " Main.OSMXGraph.Edge(5, 10564, 89783, 1495256494, 8213623939, LLA(52.2767636, 21.0666679, 0.0), LLA(52.2757071, 21.0658142, 0.0), 29448268, \"service\")\n",
       " Main.OSMXGraph.Edge(6, 10565, 89783, 1495256391, 8213623939, LLA(52.2756593, 21.0657277, 0.0), LLA(52.2757071, 21.0658142, 0.0), 29448268, \"service\")\n",
       " Main.OSMXGraph.Edge(7, 89783, 10565, 8213623939, 1495256391, LLA(52.2757071, 21.0658142, 0.0), LLA(52.2756593, 21.0657277, 0.0), 29448268, \"service\")\n",
       " Main.OSMXGraph.Edge(8, 139162, 139164, 10678694818, 10678694819, LLA(52.1684916, 20.9306972, 0.0), LLA(52.1685319, 20.9307433, 0.0), 1147662891, \"service\")\n",
       " Main.OSMXGraph.Edge(9, 139164, 139162, 10678694819, 10678694818, LLA(52.1685319, 20.9307433, 0.0), LLA(52.1684916, 20.9306972, 0.0), 1147662891, \"service\")\n",
       " Main.OSMXGraph.Edge(10, 23151, 23150, 1255665867, 1255665807, LLA(52.3381872, 20.8783284, 0.0), LLA(52.3372854, 20.8792502, 0.0), 109767263, \"residential\")\n",
       " ⋮\n",
       " Main.OSMXGraph.Edge(362332, 100170, 100169, 8977245465, 8977245466, LLA(52.3129553, 20.9806396, 0.0), LLA(52.3130843, 20.9805367, 0.0), 970100273, \"service\")\n",
       " Main.OSMXGraph.Edge(362333, 100169, 100170, 8977245466, 8977245465, LLA(52.3130843, 20.9805367, 0.0), LLA(52.3129553, 20.9806396, 0.0), 970100273, \"service\")\n",
       " Main.OSMXGraph.Edge(362334, 59561, 33809, 10189230548, 1917033626, LLA(52.3218822, 21.0858421, 0.0), LLA(52.3230729, 21.0856121, 0.0), 407534914, \"residential\")\n",
       " Main.OSMXGraph.Edge(362335, 33809, 59561, 1917033626, 10189230548, LLA(52.3230729, 21.0856121, 0.0), LLA(52.3218822, 21.0858421, 0.0), 407534914, \"residential\")\n",
       " Main.OSMXGraph.Edge(362336, 6415, 40639, 2377835608, 275072276, LLA(52.2869174, 21.1185196, 0.0), LLA(52.2865879, 21.1185456, 0.0), 1000293898, \"tertiary\")\n",
       " Main.OSMXGraph.Edge(362337, 15207, 14685, 519341249, 11331967193, LLA(52.285379, 20.9498487, 0.0), LLA(52.2854259, 20.949769, 0.0), 1221864923, \"service\")\n",
       " Main.OSMXGraph.Edge(362338, 14685, 15207, 11331967193, 519341249, LLA(52.2854259, 20.949769, 0.0), LLA(52.285379, 20.9498487, 0.0), 1221864923, \"service\")\n",
       " Main.OSMXGraph.Edge(362339, 168490, 168489, 11997824980, 11997824982, LLA(52.2502294, 21.1269926, 0.0), LLA(52.2503523, 21.1272205, 0.0), 1294594310, \"service\")\n",
       " Main.OSMXGraph.Edge(362340, 168489, 168490, 11997824982, 11997824980, LLA(52.2503523, 21.1272205, 0.0), LLA(52.2502294, 21.1269926, 0.0), 1294594310, \"service\")"
      ]
     },
     "metadata": {},
     "output_type": "display_data"
    }
   ],
   "source": [
    "ways_intersections, intersections, road_tags, nodes = OSMXGraph.find_intersections(filtered_ways, parsed)\n",
    "edges = OSMXGraph.ways_to_edges(ways_intersections,road_tags,parsed,nodes)"
   ]
  },
  {
   "cell_type": "markdown",
   "metadata": {},
   "source": [
    "### 3. Building data structures\n",
    "The data frame for graph metadata is created based on the edges generated in the previous step. Each row\n",
    "represents a one-way road and includes both node and way IDs from OSM file. Additionally, each node\n",
    "and way is assigned new IDs (consecutive natural numbers) required for creating graph matrix and spatial\n",
    "indexing structures. The road graph is represented as a sparse adjacency matrix for efficiency. The sparse\n",
    "matrix maps ’from id’ and ’to id’ to the road’s id. The ’create road graph’ function also generates KDTree\n",
    "spatial index for location of the road nodes."
   ]
  },
  {
   "cell_type": "code",
   "execution_count": 14,
   "metadata": {},
   "outputs": [
    {
     "data": {
      "text/html": [
       "<div><div style = \"float: left;\"><span>362340×9 DataFrame</span></div><div style = \"float: right;\"><span style = \"font-style: italic;\">362315 rows omitted</span></div><div style = \"clear: both;\"></div></div><div class = \"data-frame\" style = \"overflow-x: scroll;\"><table class = \"data-frame\" style = \"margin-bottom: 6px;\"><thead><tr class = \"header\"><th class = \"rowNumber\" style = \"font-weight: bold; text-align: right;\">Row</th><th style = \"text-align: left;\">id</th><th style = \"text-align: left;\">from_id</th><th style = \"text-align: left;\">to_id</th><th style = \"text-align: left;\">from</th><th style = \"text-align: left;\">to</th><th style = \"text-align: left;\">from_LLA</th><th style = \"text-align: left;\">to_LLA</th><th style = \"text-align: left;\">way</th><th style = \"text-align: left;\">type</th></tr><tr class = \"subheader headerLastRow\"><th class = \"rowNumber\" style = \"font-weight: bold; text-align: right;\"></th><th title = \"Int64\" style = \"text-align: left;\">Int64</th><th title = \"Int64\" style = \"text-align: left;\">Int64</th><th title = \"Int64\" style = \"text-align: left;\">Int64</th><th title = \"Int64\" style = \"text-align: left;\">Int64</th><th title = \"Int64\" style = \"text-align: left;\">Int64</th><th title = \"LLA\" style = \"text-align: left;\">LLA</th><th title = \"LLA\" style = \"text-align: left;\">LLA</th><th title = \"Int64\" style = \"text-align: left;\">Int64</th><th title = \"String\" style = \"text-align: left;\">String</th></tr></thead><tbody><tr><td class = \"rowNumber\" style = \"font-weight: bold; text-align: right;\">1</td><td style = \"text-align: right;\">1</td><td style = \"text-align: right;\">63583</td><td style = \"text-align: right;\">2053</td><td style = \"text-align: right;\">4978125632</td><td style = \"text-align: right;\">1181144372</td><td style = \"text-align: left;\">LLA(52.2566, 21.0331, 0.0)</td><td style = \"text-align: left;\">LLA(52.2567, 21.0332, 0.0)</td><td style = \"text-align: right;\">451965551</td><td style = \"text-align: left;\">tertiary</td></tr><tr><td class = \"rowNumber\" style = \"font-weight: bold; text-align: right;\">2</td><td style = \"text-align: right;\">2</td><td style = \"text-align: right;\">34902</td><td style = \"text-align: right;\">34901</td><td style = \"text-align: right;\">1949648310</td><td style = \"text-align: right;\">9265228166</td><td style = \"text-align: left;\">LLA(52.2159, 20.9792, 0.0)</td><td style = \"text-align: left;\">LLA(52.2155, 20.9784, 0.0)</td><td style = \"text-align: right;\">184475036</td><td style = \"text-align: left;\">service</td></tr><tr><td class = \"rowNumber\" style = \"font-weight: bold; text-align: right;\">3</td><td style = \"text-align: right;\">3</td><td style = \"text-align: right;\">34901</td><td style = \"text-align: right;\">34902</td><td style = \"text-align: right;\">9265228166</td><td style = \"text-align: right;\">1949648310</td><td style = \"text-align: left;\">LLA(52.2155, 20.9784, 0.0)</td><td style = \"text-align: left;\">LLA(52.2159, 20.9792, 0.0)</td><td style = \"text-align: right;\">184475036</td><td style = \"text-align: left;\">service</td></tr><tr><td class = \"rowNumber\" style = \"font-weight: bold; text-align: right;\">4</td><td style = \"text-align: right;\">4</td><td style = \"text-align: right;\">89783</td><td style = \"text-align: right;\">10564</td><td style = \"text-align: right;\">8213623939</td><td style = \"text-align: right;\">1495256494</td><td style = \"text-align: left;\">LLA(52.2757, 21.0658, 0.0)</td><td style = \"text-align: left;\">LLA(52.2768, 21.0667, 0.0)</td><td style = \"text-align: right;\">29448268</td><td style = \"text-align: left;\">service</td></tr><tr><td class = \"rowNumber\" style = \"font-weight: bold; text-align: right;\">5</td><td style = \"text-align: right;\">5</td><td style = \"text-align: right;\">10564</td><td style = \"text-align: right;\">89783</td><td style = \"text-align: right;\">1495256494</td><td style = \"text-align: right;\">8213623939</td><td style = \"text-align: left;\">LLA(52.2768, 21.0667, 0.0)</td><td style = \"text-align: left;\">LLA(52.2757, 21.0658, 0.0)</td><td style = \"text-align: right;\">29448268</td><td style = \"text-align: left;\">service</td></tr><tr><td class = \"rowNumber\" style = \"font-weight: bold; text-align: right;\">6</td><td style = \"text-align: right;\">6</td><td style = \"text-align: right;\">10565</td><td style = \"text-align: right;\">89783</td><td style = \"text-align: right;\">1495256391</td><td style = \"text-align: right;\">8213623939</td><td style = \"text-align: left;\">LLA(52.2757, 21.0657, 0.0)</td><td style = \"text-align: left;\">LLA(52.2757, 21.0658, 0.0)</td><td style = \"text-align: right;\">29448268</td><td style = \"text-align: left;\">service</td></tr><tr><td class = \"rowNumber\" style = \"font-weight: bold; text-align: right;\">7</td><td style = \"text-align: right;\">7</td><td style = \"text-align: right;\">89783</td><td style = \"text-align: right;\">10565</td><td style = \"text-align: right;\">8213623939</td><td style = \"text-align: right;\">1495256391</td><td style = \"text-align: left;\">LLA(52.2757, 21.0658, 0.0)</td><td style = \"text-align: left;\">LLA(52.2757, 21.0657, 0.0)</td><td style = \"text-align: right;\">29448268</td><td style = \"text-align: left;\">service</td></tr><tr><td class = \"rowNumber\" style = \"font-weight: bold; text-align: right;\">8</td><td style = \"text-align: right;\">8</td><td style = \"text-align: right;\">139162</td><td style = \"text-align: right;\">139164</td><td style = \"text-align: right;\">10678694818</td><td style = \"text-align: right;\">10678694819</td><td style = \"text-align: left;\">LLA(52.1685, 20.9307, 0.0)</td><td style = \"text-align: left;\">LLA(52.1685, 20.9307, 0.0)</td><td style = \"text-align: right;\">1147662891</td><td style = \"text-align: left;\">service</td></tr><tr><td class = \"rowNumber\" style = \"font-weight: bold; text-align: right;\">9</td><td style = \"text-align: right;\">9</td><td style = \"text-align: right;\">139164</td><td style = \"text-align: right;\">139162</td><td style = \"text-align: right;\">10678694819</td><td style = \"text-align: right;\">10678694818</td><td style = \"text-align: left;\">LLA(52.1685, 20.9307, 0.0)</td><td style = \"text-align: left;\">LLA(52.1685, 20.9307, 0.0)</td><td style = \"text-align: right;\">1147662891</td><td style = \"text-align: left;\">service</td></tr><tr><td class = \"rowNumber\" style = \"font-weight: bold; text-align: right;\">10</td><td style = \"text-align: right;\">10</td><td style = \"text-align: right;\">23151</td><td style = \"text-align: right;\">23150</td><td style = \"text-align: right;\">1255665867</td><td style = \"text-align: right;\">1255665807</td><td style = \"text-align: left;\">LLA(52.3382, 20.8783, 0.0)</td><td style = \"text-align: left;\">LLA(52.3373, 20.8793, 0.0)</td><td style = \"text-align: right;\">109767263</td><td style = \"text-align: left;\">residential</td></tr><tr><td class = \"rowNumber\" style = \"font-weight: bold; text-align: right;\">11</td><td style = \"text-align: right;\">11</td><td style = \"text-align: right;\">23150</td><td style = \"text-align: right;\">23151</td><td style = \"text-align: right;\">1255665807</td><td style = \"text-align: right;\">1255665867</td><td style = \"text-align: left;\">LLA(52.3373, 20.8793, 0.0)</td><td style = \"text-align: left;\">LLA(52.3382, 20.8783, 0.0)</td><td style = \"text-align: right;\">109767263</td><td style = \"text-align: left;\">residential</td></tr><tr><td class = \"rowNumber\" style = \"font-weight: bold; text-align: right;\">12</td><td style = \"text-align: right;\">12</td><td style = \"text-align: right;\">66341</td><td style = \"text-align: right;\">66340</td><td style = \"text-align: right;\">278765937</td><td style = \"text-align: right;\">785374731</td><td style = \"text-align: left;\">LLA(52.1783, 20.9736, 0.0)</td><td style = \"text-align: left;\">LLA(52.1783, 20.9736, 0.0)</td><td style = \"text-align: right;\">499336257</td><td style = \"text-align: left;\">service</td></tr><tr><td class = \"rowNumber\" style = \"font-weight: bold; text-align: right;\">13</td><td style = \"text-align: right;\">13</td><td style = \"text-align: right;\">66340</td><td style = \"text-align: right;\">66341</td><td style = \"text-align: right;\">785374731</td><td style = \"text-align: right;\">278765937</td><td style = \"text-align: left;\">LLA(52.1783, 20.9736, 0.0)</td><td style = \"text-align: left;\">LLA(52.1783, 20.9736, 0.0)</td><td style = \"text-align: right;\">499336257</td><td style = \"text-align: left;\">service</td></tr><tr><td style = \"text-align: right;\">&vellip;</td><td style = \"text-align: right;\">&vellip;</td><td style = \"text-align: right;\">&vellip;</td><td style = \"text-align: right;\">&vellip;</td><td style = \"text-align: right;\">&vellip;</td><td style = \"text-align: right;\">&vellip;</td><td style = \"text-align: right;\">&vellip;</td><td style = \"text-align: right;\">&vellip;</td><td style = \"text-align: right;\">&vellip;</td><td style = \"text-align: right;\">&vellip;</td></tr><tr><td class = \"rowNumber\" style = \"font-weight: bold; text-align: right;\">362329</td><td style = \"text-align: right;\">362329</td><td style = \"text-align: right;\">2879</td><td style = \"text-align: right;\">2880</td><td style = \"text-align: right;\">96665369</td><td style = \"text-align: right;\">31156359</td><td style = \"text-align: left;\">LLA(52.2624, 20.979, 0.0)</td><td style = \"text-align: left;\">LLA(52.2622, 20.9797, 0.0)</td><td style = \"text-align: right;\">13074512</td><td style = \"text-align: left;\">secondary</td></tr><tr><td class = \"rowNumber\" style = \"font-weight: bold; text-align: right;\">362330</td><td style = \"text-align: right;\">362330</td><td style = \"text-align: right;\">113538</td><td style = \"text-align: right;\">113537</td><td style = \"text-align: right;\">9607528777</td><td style = \"text-align: right;\">9607528779</td><td style = \"text-align: left;\">LLA(52.1703, 20.8893, 0.0)</td><td style = \"text-align: left;\">LLA(52.1703, 20.8893, 0.0)</td><td style = \"text-align: right;\">1044058644</td><td style = \"text-align: left;\">service</td></tr><tr><td class = \"rowNumber\" style = \"font-weight: bold; text-align: right;\">362331</td><td style = \"text-align: right;\">362331</td><td style = \"text-align: right;\">113537</td><td style = \"text-align: right;\">113538</td><td style = \"text-align: right;\">9607528779</td><td style = \"text-align: right;\">9607528777</td><td style = \"text-align: left;\">LLA(52.1703, 20.8893, 0.0)</td><td style = \"text-align: left;\">LLA(52.1703, 20.8893, 0.0)</td><td style = \"text-align: right;\">1044058644</td><td style = \"text-align: left;\">service</td></tr><tr><td class = \"rowNumber\" style = \"font-weight: bold; text-align: right;\">362332</td><td style = \"text-align: right;\">362332</td><td style = \"text-align: right;\">100170</td><td style = \"text-align: right;\">100169</td><td style = \"text-align: right;\">8977245465</td><td style = \"text-align: right;\">8977245466</td><td style = \"text-align: left;\">LLA(52.313, 20.9806, 0.0)</td><td style = \"text-align: left;\">LLA(52.3131, 20.9805, 0.0)</td><td style = \"text-align: right;\">970100273</td><td style = \"text-align: left;\">service</td></tr><tr><td class = \"rowNumber\" style = \"font-weight: bold; text-align: right;\">362333</td><td style = \"text-align: right;\">362333</td><td style = \"text-align: right;\">100169</td><td style = \"text-align: right;\">100170</td><td style = \"text-align: right;\">8977245466</td><td style = \"text-align: right;\">8977245465</td><td style = \"text-align: left;\">LLA(52.3131, 20.9805, 0.0)</td><td style = \"text-align: left;\">LLA(52.313, 20.9806, 0.0)</td><td style = \"text-align: right;\">970100273</td><td style = \"text-align: left;\">service</td></tr><tr><td class = \"rowNumber\" style = \"font-weight: bold; text-align: right;\">362334</td><td style = \"text-align: right;\">362334</td><td style = \"text-align: right;\">59561</td><td style = \"text-align: right;\">33809</td><td style = \"text-align: right;\">10189230548</td><td style = \"text-align: right;\">1917033626</td><td style = \"text-align: left;\">LLA(52.3219, 21.0858, 0.0)</td><td style = \"text-align: left;\">LLA(52.3231, 21.0856, 0.0)</td><td style = \"text-align: right;\">407534914</td><td style = \"text-align: left;\">residential</td></tr><tr><td class = \"rowNumber\" style = \"font-weight: bold; text-align: right;\">362335</td><td style = \"text-align: right;\">362335</td><td style = \"text-align: right;\">33809</td><td style = \"text-align: right;\">59561</td><td style = \"text-align: right;\">1917033626</td><td style = \"text-align: right;\">10189230548</td><td style = \"text-align: left;\">LLA(52.3231, 21.0856, 0.0)</td><td style = \"text-align: left;\">LLA(52.3219, 21.0858, 0.0)</td><td style = \"text-align: right;\">407534914</td><td style = \"text-align: left;\">residential</td></tr><tr><td class = \"rowNumber\" style = \"font-weight: bold; text-align: right;\">362336</td><td style = \"text-align: right;\">362336</td><td style = \"text-align: right;\">6415</td><td style = \"text-align: right;\">40639</td><td style = \"text-align: right;\">2377835608</td><td style = \"text-align: right;\">275072276</td><td style = \"text-align: left;\">LLA(52.2869, 21.1185, 0.0)</td><td style = \"text-align: left;\">LLA(52.2866, 21.1185, 0.0)</td><td style = \"text-align: right;\">1000293898</td><td style = \"text-align: left;\">tertiary</td></tr><tr><td class = \"rowNumber\" style = \"font-weight: bold; text-align: right;\">362337</td><td style = \"text-align: right;\">362337</td><td style = \"text-align: right;\">15207</td><td style = \"text-align: right;\">14685</td><td style = \"text-align: right;\">519341249</td><td style = \"text-align: right;\">11331967193</td><td style = \"text-align: left;\">LLA(52.2854, 20.9498, 0.0)</td><td style = \"text-align: left;\">LLA(52.2854, 20.9498, 0.0)</td><td style = \"text-align: right;\">1221864923</td><td style = \"text-align: left;\">service</td></tr><tr><td class = \"rowNumber\" style = \"font-weight: bold; text-align: right;\">362338</td><td style = \"text-align: right;\">362338</td><td style = \"text-align: right;\">14685</td><td style = \"text-align: right;\">15207</td><td style = \"text-align: right;\">11331967193</td><td style = \"text-align: right;\">519341249</td><td style = \"text-align: left;\">LLA(52.2854, 20.9498, 0.0)</td><td style = \"text-align: left;\">LLA(52.2854, 20.9498, 0.0)</td><td style = \"text-align: right;\">1221864923</td><td style = \"text-align: left;\">service</td></tr><tr><td class = \"rowNumber\" style = \"font-weight: bold; text-align: right;\">362339</td><td style = \"text-align: right;\">362339</td><td style = \"text-align: right;\">168490</td><td style = \"text-align: right;\">168489</td><td style = \"text-align: right;\">11997824980</td><td style = \"text-align: right;\">11997824982</td><td style = \"text-align: left;\">LLA(52.2502, 21.127, 0.0)</td><td style = \"text-align: left;\">LLA(52.2504, 21.1272, 0.0)</td><td style = \"text-align: right;\">1294594310</td><td style = \"text-align: left;\">service</td></tr><tr><td class = \"rowNumber\" style = \"font-weight: bold; text-align: right;\">362340</td><td style = \"text-align: right;\">362340</td><td style = \"text-align: right;\">168489</td><td style = \"text-align: right;\">168490</td><td style = \"text-align: right;\">11997824982</td><td style = \"text-align: right;\">11997824980</td><td style = \"text-align: left;\">LLA(52.2504, 21.1272, 0.0)</td><td style = \"text-align: left;\">LLA(52.2502, 21.127, 0.0)</td><td style = \"text-align: right;\">1294594310</td><td style = \"text-align: left;\">service</td></tr></tbody></table></div>"
      ],
      "text/latex": [
       "\\begin{tabular}{r|cccccccc}\n",
       "\t& id & from\\_id & to\\_id & from & to & from\\_LLA & to\\_LLA & \\\\\n",
       "\t\\hline\n",
       "\t& Int64 & Int64 & Int64 & Int64 & Int64 & LLA & LLA & \\\\\n",
       "\t\\hline\n",
       "\t1 & 1 & 63583 & 2053 & 4978125632 & 1181144372 & LLA(52.2566, 21.0331, 0.0) & LLA(52.2567, 21.0332, 0.0) & $\\dots$ \\\\\n",
       "\t2 & 2 & 34902 & 34901 & 1949648310 & 9265228166 & LLA(52.2159, 20.9792, 0.0) & LLA(52.2155, 20.9784, 0.0) & $\\dots$ \\\\\n",
       "\t3 & 3 & 34901 & 34902 & 9265228166 & 1949648310 & LLA(52.2155, 20.9784, 0.0) & LLA(52.2159, 20.9792, 0.0) & $\\dots$ \\\\\n",
       "\t4 & 4 & 89783 & 10564 & 8213623939 & 1495256494 & LLA(52.2757, 21.0658, 0.0) & LLA(52.2768, 21.0667, 0.0) & $\\dots$ \\\\\n",
       "\t5 & 5 & 10564 & 89783 & 1495256494 & 8213623939 & LLA(52.2768, 21.0667, 0.0) & LLA(52.2757, 21.0658, 0.0) & $\\dots$ \\\\\n",
       "\t6 & 6 & 10565 & 89783 & 1495256391 & 8213623939 & LLA(52.2757, 21.0657, 0.0) & LLA(52.2757, 21.0658, 0.0) & $\\dots$ \\\\\n",
       "\t7 & 7 & 89783 & 10565 & 8213623939 & 1495256391 & LLA(52.2757, 21.0658, 0.0) & LLA(52.2757, 21.0657, 0.0) & $\\dots$ \\\\\n",
       "\t8 & 8 & 139162 & 139164 & 10678694818 & 10678694819 & LLA(52.1685, 20.9307, 0.0) & LLA(52.1685, 20.9307, 0.0) & $\\dots$ \\\\\n",
       "\t9 & 9 & 139164 & 139162 & 10678694819 & 10678694818 & LLA(52.1685, 20.9307, 0.0) & LLA(52.1685, 20.9307, 0.0) & $\\dots$ \\\\\n",
       "\t10 & 10 & 23151 & 23150 & 1255665867 & 1255665807 & LLA(52.3382, 20.8783, 0.0) & LLA(52.3373, 20.8793, 0.0) & $\\dots$ \\\\\n",
       "\t11 & 11 & 23150 & 23151 & 1255665807 & 1255665867 & LLA(52.3373, 20.8793, 0.0) & LLA(52.3382, 20.8783, 0.0) & $\\dots$ \\\\\n",
       "\t12 & 12 & 66341 & 66340 & 278765937 & 785374731 & LLA(52.1783, 20.9736, 0.0) & LLA(52.1783, 20.9736, 0.0) & $\\dots$ \\\\\n",
       "\t13 & 13 & 66340 & 66341 & 785374731 & 278765937 & LLA(52.1783, 20.9736, 0.0) & LLA(52.1783, 20.9736, 0.0) & $\\dots$ \\\\\n",
       "\t14 & 14 & 66342 & 66341 & 8857026633 & 278765937 & LLA(52.1778, 20.9728, 0.0) & LLA(52.1783, 20.9736, 0.0) & $\\dots$ \\\\\n",
       "\t15 & 15 & 66341 & 66342 & 278765937 & 8857026633 & LLA(52.1783, 20.9736, 0.0) & LLA(52.1778, 20.9728, 0.0) & $\\dots$ \\\\\n",
       "\t16 & 16 & 78164 & 22113 & 10160234349 & 1168754351 & LLA(52.1562, 21.0239, 0.0) & LLA(52.1562, 21.0238, 0.0) & $\\dots$ \\\\\n",
       "\t17 & 17 & 22113 & 78164 & 1168754351 & 10160234349 & LLA(52.1562, 21.0238, 0.0) & LLA(52.1562, 21.0239, 0.0) & $\\dots$ \\\\\n",
       "\t18 & 18 & 81791 & 81790 & 9359581085 & 1075952943 & LLA(52.2851, 21.0502, 0.0) & LLA(52.2853, 21.0502, 0.0) & $\\dots$ \\\\\n",
       "\t19 & 19 & 81790 & 81791 & 1075952943 & 9359581085 & LLA(52.2853, 21.0502, 0.0) & LLA(52.2851, 21.0502, 0.0) & $\\dots$ \\\\\n",
       "\t20 & 20 & 110622 & 39006 & 9461423020 & 4808482445 & LLA(52.225, 21.0193, 0.0) & LLA(52.2251, 21.0192, 0.0) & $\\dots$ \\\\\n",
       "\t21 & 21 & 39006 & 110622 & 4808482445 & 9461423020 & LLA(52.2251, 21.0192, 0.0) & LLA(52.225, 21.0193, 0.0) & $\\dots$ \\\\\n",
       "\t22 & 22 & 65268 & 110622 & 4808482439 & 9461423020 & LLA(52.2244, 21.0196, 0.0) & LLA(52.225, 21.0193, 0.0) & $\\dots$ \\\\\n",
       "\t23 & 23 & 110622 & 65268 & 9461423020 & 4808482439 & LLA(52.225, 21.0193, 0.0) & LLA(52.2244, 21.0196, 0.0) & $\\dots$ \\\\\n",
       "\t24 & 24 & 39007 & 65268 & 38427866 & 4808482439 & LLA(52.2242, 21.0197, 0.0) & LLA(52.2244, 21.0196, 0.0) & $\\dots$ \\\\\n",
       "\t$\\dots$ & $\\dots$ & $\\dots$ & $\\dots$ & $\\dots$ & $\\dots$ & $\\dots$ & $\\dots$ &  \\\\\n",
       "\\end{tabular}\n"
      ],
      "text/plain": [
       "\u001b[1m362340×9 DataFrame\u001b[0m\n",
       "\u001b[1m    Row \u001b[0m│\u001b[1m id     \u001b[0m\u001b[1m from_id \u001b[0m\u001b[1m to_id  \u001b[0m\u001b[1m from        \u001b[0m\u001b[1m to          \u001b[0m\u001b[1m from_LLA         \u001b[0m ⋯\n",
       "        │\u001b[90m Int64  \u001b[0m\u001b[90m Int64   \u001b[0m\u001b[90m Int64  \u001b[0m\u001b[90m Int64       \u001b[0m\u001b[90m Int64       \u001b[0m\u001b[90m LLA              \u001b[0m ⋯\n",
       "────────┼───────────────────────────────────────────────────────────────────────\n",
       "      1 │      1    63583    2053   4978125632   1181144372  LLA(52.2566, 21.0 ⋯\n",
       "      2 │      2    34902   34901   1949648310   9265228166  LLA(52.2159, 20.9\n",
       "      3 │      3    34901   34902   9265228166   1949648310  LLA(52.2155, 20.9\n",
       "      4 │      4    89783   10564   8213623939   1495256494  LLA(52.2757, 21.0\n",
       "      5 │      5    10564   89783   1495256494   8213623939  LLA(52.2768, 21.0 ⋯\n",
       "      6 │      6    10565   89783   1495256391   8213623939  LLA(52.2757, 21.0\n",
       "      7 │      7    89783   10565   8213623939   1495256391  LLA(52.2757, 21.0\n",
       "      8 │      8   139162  139164  10678694818  10678694819  LLA(52.1685, 20.9\n",
       "   ⋮    │   ⋮        ⋮       ⋮          ⋮            ⋮                   ⋮     ⋱\n",
       " 362334 │ 362334    59561   33809  10189230548   1917033626  LLA(52.3219, 21.0 ⋯\n",
       " 362335 │ 362335    33809   59561   1917033626  10189230548  LLA(52.3231, 21.0\n",
       " 362336 │ 362336     6415   40639   2377835608    275072276  LLA(52.2869, 21.1\n",
       " 362337 │ 362337    15207   14685    519341249  11331967193  LLA(52.2854, 20.9\n",
       " 362338 │ 362338    14685   15207  11331967193    519341249  LLA(52.2854, 20.9 ⋯\n",
       " 362339 │ 362339   168490  168489  11997824980  11997824982  LLA(52.2502, 21.1\n",
       " 362340 │ 362340   168489  168490  11997824982  11997824980  LLA(52.2504, 21.1\n",
       "\u001b[36m                                               4 columns and 362325 rows omitted\u001b[0m"
      ]
     },
     "metadata": {},
     "output_type": "display_data"
    }
   ],
   "source": [
    "df = OSMXGraph.edges_to_df(edges)"
   ]
  },
  {
   "cell_type": "code",
   "execution_count": 19,
   "metadata": {},
   "outputs": [
    {
     "data": {
      "text/plain": [
       "176262×176262 SparseArrays.SparseMatrixCSC{Int64, Int64} with 358494 stored entries:\n",
       "⎡⣿⣿⣿⣿⣿⣿⣿⣿⣿⣿⣿⣿⣿⣿⣿⣿⣿⣿⣿⣿⣿⣿⣿⣿⣿⣿⣿⣿⣿⣿⣿⣿⣿⣿⣿⡿⣿⣿⣿⣿⎤\n",
       "⎢⣿⣿⣿⣿⣿⣿⣿⣿⣿⣿⣿⣿⣿⣿⣿⣿⣿⣿⣿⣿⣿⣿⣿⣿⣿⣿⣿⣿⣿⣿⣿⣿⣿⣿⣿⣿⣿⣿⣿⣿⎥\n",
       "⎢⣿⣿⣿⣿⣿⣿⣿⣿⣿⣿⣿⣿⣿⣿⣿⣿⣿⣿⣿⣿⣿⣿⣿⣿⣿⣿⣿⣿⣿⣿⣿⣿⣿⣿⣿⣿⣿⣿⣿⣿⎥\n",
       "⎢⣿⣿⣿⣿⣿⣿⣿⣿⣿⣿⣿⣿⣿⣿⣿⣿⣿⣿⣿⣿⣿⣿⣿⣿⣿⣿⣿⣿⣿⣿⣿⣿⣿⣿⣿⣟⣿⣿⣿⣿⎥\n",
       "⎢⣿⣿⣿⣿⣿⣿⣿⣿⣿⣿⣿⣿⣿⣿⣿⣿⣿⣿⣿⣿⣿⣿⣿⣿⣿⣿⣿⣿⣿⣿⣿⣿⣿⣿⣿⣷⣿⣿⣿⣿⎥\n",
       "⎢⣿⣿⣿⣿⣿⣿⣿⣿⣿⣿⣿⣿⣿⣿⣿⣿⣿⣿⣿⣿⣿⣿⣿⣿⣿⣿⣿⣿⣿⣿⣿⣿⣿⣿⣿⣿⢽⣯⣿⣿⎥\n",
       "⎢⣿⣿⣿⣿⣿⣿⣿⣿⣿⣿⣿⣿⣿⣿⣿⣿⣿⣿⣿⣿⣿⣿⣿⣿⣿⣿⣿⣿⣿⣿⣿⣿⣿⣿⣿⣿⣿⣿⣿⣿⎥\n",
       "⎢⣿⣿⣿⣿⣿⣿⣿⣿⣿⣿⣿⣿⣿⣿⣿⣿⣿⣿⣿⣿⣿⣿⣿⣿⣿⣿⣿⣿⣿⣿⣿⣿⣿⣿⣿⡿⣿⣿⣿⣿⎥\n",
       "⎢⣿⣿⣿⣿⣿⣿⣿⣿⣿⣿⣿⣿⣿⣿⣿⣿⣿⣿⣿⣿⣿⣿⣿⣿⣿⣿⣿⣿⣿⣿⣿⣿⣿⣿⣿⣿⣿⣿⣿⣿⎥\n",
       "⎢⣿⣿⣿⣿⣿⣿⣿⣿⣿⣿⣿⣿⣿⣿⣿⣿⣿⣿⣿⣿⣿⣿⣿⣿⣿⣿⣿⣿⣿⣿⣿⣿⣿⣿⣿⣿⣽⣿⣿⣿⎥\n",
       "⎢⣿⣿⣿⣿⣿⣿⣿⣿⣿⣿⣿⣿⣿⣿⣿⣿⣿⣿⣿⣿⣿⣿⣿⣿⣿⣿⣿⣿⣿⣿⣿⣿⣿⣿⣿⡿⣿⣿⣿⣿⎥\n",
       "⎢⣿⣿⣿⣿⣿⣿⣿⣿⣿⣿⣿⣿⣿⣿⣿⣿⣿⣿⣿⣿⣿⣿⣿⣿⣿⣿⣿⣿⣿⣿⣿⣿⣿⣿⣿⣷⣾⣿⣿⣿⎥\n",
       "⎢⣿⣿⣿⣿⣿⣿⣿⣿⣿⣿⣿⣿⣿⣿⣿⣿⣿⣿⣿⣿⣿⣿⣿⣿⣿⣿⣿⣿⣿⣿⣷⣿⣿⣿⣿⡟⣿⣿⣿⣯⎥\n",
       "⎢⣿⣿⣿⣿⣿⣿⣿⣿⣿⣿⣿⣿⣿⣿⣿⣿⣿⣿⣿⣿⣿⣿⣿⣿⣿⣿⣿⣿⣿⡿⣿⣿⣿⣿⣿⡿⣻⣿⣿⣿⎥\n",
       "⎢⣿⣿⣿⣿⣿⣿⣿⣿⣿⣿⣿⣿⣿⣿⣿⣿⣿⣿⣿⣿⣿⣿⣿⣿⣿⣿⣿⡿⣿⣿⡯⣿⣿⣿⣿⡏⢽⣿⣿⣿⎥\n",
       "⎢⣿⣿⣿⣿⣿⣿⣿⣿⣿⣿⣿⣿⣿⣿⣿⣿⣿⣿⣿⣿⣿⣿⣿⣿⣽⣿⣾⣿⣯⣯⡿⣯⣿⣿⣿⣍⣿⣟⣽⣟⎥\n",
       "⎢⣿⣿⣿⣿⣿⣿⣿⣿⣿⣿⣿⣿⣿⣿⣿⣿⣿⣿⣿⣿⣿⣿⣿⣿⡿⣿⣿⣿⣿⣿⣿⣿⣿⣿⣿⣯⣾⣿⣿⣿⎥\n",
       "⎢⣿⡿⣿⣿⣿⣿⣿⢿⣿⣿⣿⣿⣿⣿⣿⡿⣿⣿⣿⣿⣿⡿⢿⣿⣿⠿⣿⡿⡿⠿⡟⢿⡿⣿⣿⣿⣿⡿⢿⡿⎥\n",
       "⎢⣿⣿⣿⣿⣿⣿⣿⣿⣿⣿⡿⣿⣿⣿⣾⣿⣿⣿⣷⣿⣿⣿⣾⣿⣿⣿⣿⣿⣷⣷⣿⢿⣾⣿⣿⡿⣿⣾⣿⣿⎥\n",
       "⎣⣿⣿⣿⣿⣿⣿⣿⣿⣿⣿⣿⣿⣿⣿⣿⣿⣿⣿⣿⣿⣿⣿⣿⣿⡿⣿⣿⣿⣿⣿⣷⢿⣿⣿⣿⡷⣿⣿⣿⣿⎦"
      ]
     },
     "metadata": {},
     "output_type": "display_data"
    }
   ],
   "source": [
    "sparse_index = OSMXGraph.create_sparse_index(df.from_id,df.to_id,df.id)"
   ]
  },
  {
   "cell_type": "markdown",
   "metadata": {},
   "source": [
    "### 4. Finding Nearest Points\n",
    "The module uses OSMToolset POI data frame as a base for further calculations. It takes\n",
    "the POI metadata structure as input and extends it by a new column with the ID of the\n",
    "nearest road node, using the KDTree spatial index created in the previous step.  "
   ]
  },
  {
   "cell_type": "code",
   "execution_count": 16,
   "metadata": {},
   "outputs": [
    {
     "data": {
      "text/plain": [
       "NearestNeighbors.KDTree{StaticArraysCore.SVector{2, Float64}, Distances.Euclidean, Float64, StaticArraysCore.SVector{2, Float64}}\n",
       "  Number of points: 176262\n",
       "  Dimensions: 2\n",
       "  Metric: Distances.Euclidean(0.0)\n",
       "  Reordered: false"
      ]
     },
     "metadata": {},
     "output_type": "display_data"
    }
   ],
   "source": [
    "lats = [node[1].lat for node in values(nodes)]\n",
    "lons = [node[1].lon for node in values(nodes)]\n",
    "vals = [node[2] for node in values(nodes)]\n",
    "road_mtrx = Matrix(transpose([lats lons]))\n",
    "road_index = OSMXGraph.create_road_index(road_mtrx)"
   ]
  },
  {
   "cell_type": "markdown",
   "metadata": {},
   "source": [
    "The building process can be shortened if some of the structures are saved as files. The \n",
    "module allows for saving and reading both graph metadata and POI data frames as .csv \n",
    "files. Additionally, there is an option to save a hashmap with the key as 'OSM node id' \n",
    "and the value as [geodetic coordinates, graph ID]. The sparse matrix and KDTree are not \n",
    "saved but can be quickly regenerated based on saved files."
   ]
  },
  {
   "cell_type": "markdown",
   "metadata": {},
   "source": [
    "## Workflow\n",
    "\n",
    "The above pipeline is implemented in the functions create_road_graph and add_nearest_road_point. A use case is presented below."
   ]
  },
  {
   "cell_type": "code",
   "execution_count": 17,
   "metadata": {},
   "outputs": [
    {
     "name": "stderr",
     "output_type": "stream",
     "text": [
      "WARNING: replacing module OSMXGraph.\n"
     ]
    },
    {
     "data": {
      "text/plain": [
       "\"./poi_with_nearest_points.csv\""
      ]
     },
     "metadata": {},
     "output_type": "display_data"
    }
   ],
   "source": [
    "include(\"../src/OSMXGraph.jl\")\n",
    "using .OSMXGraph\n",
    "using OSMToolset\n",
    "dir_in = \"../data\"\n",
    "road_types = [\"motorway\", \"trunk\", \"primary\", \"secondary\", \n",
    "            \"tertiary\", \"residential\", \"service\", \"living_street\", \n",
    "            \"motorway_link\", \"trunk_link\", \"primary_link\", \"secondary_link\", \n",
    "            \"tertiary_link\"]  \n",
    "df, sparse_index, road_index, node_ids = OSMXGraph.create_road_graph(\"Warszawa.osm\", road_types,\"Warszawa_graph.csv\",\"Warszawa_nodes.json\",dir_in=dir_in)\n",
    "POI_df = OSMToolset.find_poi(string(dir_in,\"/\",\"Warszawa.osm\"))\n",
    "POI_xs = POI_df.lat\n",
    "POI_ys = POI_df.lon\n",
    "poi_with_nearest_points = OSMXGraph.add_nearest_road_point(POI_df,POI_xs, POI_ys, road_index, node_ids)\n",
    "OSMXGraph.save_file(poi_with_nearest_points,\"poi_with_nearest_points.csv\")"
   ]
  }
 ],
 "metadata": {
  "kernelspec": {
   "display_name": "Julia 1.10.4",
   "language": "julia",
   "name": "julia-1.10"
  },
  "language_info": {
   "file_extension": ".jl",
   "mimetype": "application/julia",
   "name": "julia",
   "version": "1.10.4"
  }
 },
 "nbformat": 4,
 "nbformat_minor": 2
}
