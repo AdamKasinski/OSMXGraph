{
 "cells": [
  {
   "cell_type": "markdown",
   "metadata": {},
   "source": [
    "The `OSMXGraph` module is designed to parse OSM format files into the following structures:\n",
    "\n",
    "1. A road network graph represented as an adjacency matrix.\n",
    "2. A dataframe containing metadata for both road nodes and roadways.\n",
    "3. A dataframe with the location of points of interests, their metadata, and information about the nearest road graph node.\n",
    "\n",
    "## Road Network Graph\n",
    "\n",
    "The road network graph is stored as a sparse adjacency matrix, where each pair of node IDs is mapped to a corresponding road ID. The node and way IDs can then be mapped to a dataframe containing metadata about the nodes and roads.\n",
    "\n",
    "## Dataframe for Graph Metadata\n",
    "\n",
    "The dataframe contains metadata for both road nodes and roadways. Each row of the structure represents a one-way road. The dataframe has the following columns:\n",
    "\n",
    "- **id**: Road's ID.\n",
    "- **from_id**: ID of the node that is the starting point of the road. The ID corresponds to the node ID in the road network graph and ID in the POI dataframe.\n",
    "- **to_id**: ID of the node that is the endpoint of the road. The ID corresponds to the node ID in the road network graph and ID in the POI dataframe.  \n",
    "- **from**: ID of the node that is the starting point of the road. The ID corresponds to the node ID in the OSM file.\n",
    "- **to**: ID of the node that is the endpoint of the road. The ID corresponds to the node ID in the OSM file.\n",
    "- **from_LLA**: Location of the starting point of the road in geodetic metric.\n",
    "- **to_LLA**: Location of the endpoint of the road in geodetic coordinates.\n",
    "- **way**: Road's ID in the OSM file.\n",
    "- **type**: Road's type.\n",
    "\n",
    "## Dataframe for POI\n",
    "\n",
    "The dataframe contains locations of points of interest, their metadata, and the location of the nearest road node. The structure is based on the OSMToolset POI dataframe. The module extends this structure by adding the ID of the nearest road's node.\n",
    "\n",
    "## Overview of the Graph Building Process"
   ]
  },
  {
   "cell_type": "code",
   "execution_count": 13,
   "metadata": {},
   "outputs": [
    {
     "name": "stderr",
     "output_type": "stream",
     "text": [
      "WARNING: replacing module OSMXGraph.\n"
     ]
    },
    {
     "data": {
      "text/plain": [
       "\"data\""
      ]
     },
     "metadata": {},
     "output_type": "display_data"
    }
   ],
   "source": [
    "include(\"../src/OSMXGraph.jl\")\n",
    "using .OSMXGraph\n",
    "using OSMToolset\n",
    "using OpenStreetMapX\n",
    "\n",
    "dir_in = \"data\"\n",
    "road_types = [\"motorway\", \"trunk\", \"primary\", \"secondary\", \n",
    "            \"tertiary\", \"residential\", \"service\", \"living_street\", \n",
    "            \"motorway_link\", \"trunk_link\", \"primary_link\", \"secondary_link\", \n",
    "            \"tertiary_link\"] \n",
    "osm_file = \"Ochota.osm\"\n",
    "dir_in=dir_in"
   ]
  },
  {
   "cell_type": "markdown",
   "metadata": {},
   "source": [
    "### 1. Filtering ways\n",
    "The First step in creating graph is filtering the vector of 'Way' objects. The 'Way' \n",
    "structure in OSM files is a vector that represents more types of objects than just roads.\n",
    "The 'filter ways' function filters the vector of 'Way' objects to retain only roads with \n",
    "hierarchy types specified by user.  "
   ]
  },
  {
   "cell_type": "code",
   "execution_count": 14,
   "metadata": {},
   "outputs": [
    {
     "data": {
      "text/plain": [
       "5995-element Vector{Way}:\n",
       " Way(4311409, [26118471, 5497651232, 26118470], Dict(\"lit\" => \"yes\", \"name\" => \"Lekarska\", \"wikipedia\" => \"pl:Ulica Lekarska w Warszawie\", \"source:maxspeed\" => \"PL:urban\", \"highway\" => \"residential\", \"sidewalk\" => \"separate\", \"maxspeed\" => \"50\", \"surface\" => \"paving_stones\", \"wikidata\" => \"Q9365564\"))\n",
       " Way(4326702, [26195485, 26311029], Dict(\"parking:lane:both\" => \"no\", \"smoothness\" => \"excellent\", \"surface\" => \"asphalt\", \"name\" => \"Do Fortu\", \"sidewalk:right\" => \"no\", \"check_date:lit\" => \"2022-08-06\", \"wikidata\" => \"Q107377241\", \"lit\" => \"yes\", \"highway\" => \"residential\", \"cycleway\" => \"no\"…))\n",
       " Way(4401116, [254294608, 3337963891, 26909514, 3337963939, 3337963969, 3337963989, 1609275155, 3337964115, 26909515, 3331016565  …  3337964159, 9902934740, 3331017452, 3331017463, 3331017476, 26909512, 3331017483, 3331017486, 6409239517, 26909510], Dict(\"lit\" => \"yes\", \"name\" => \"Jana Maklakiewicza\", \"cycleway:both\" => \"no\", \"source:maxspeed\" => \"PL:zone30\", \"highway\" => \"residential\", \"lanes\" => \"2\", \"maxspeed\" => \"30\", \"surface\" => \"asphalt\"))\n",
       " Way(4428919, [27167097, 399293464, 2912041458, 4285679920], Dict(\"oneway\" => \"yes\", \"lanes\" => \"3\", \"surface\" => \"asphalt\", \"name\" => \"Aleje Jerozolimskie\", \"sidewalk:right\" => \"separate\", \"wikipedia\" => \"pl:Aleje Jerozolimskie w Warszawie\", \"horse\" => \"no\", \"wikidata\" => \"Q2118294\", \"lit\" => \"yes\", \"highway\" => \"tertiary_link\"…))\n",
       " Way(4428920, [1423326137, 8402819815, 4285679925], Dict(\"destination\" => \"ul. Popularna\", \"oneway\" => \"yes\", \"lanes\" => \"3\", \"surface\" => \"asphalt\", \"name\" => \"Aleje Jerozolimskie\", \"sidewalk:right\" => \"separate\", \"wikipedia\" => \"pl:Aleje Jerozolimskie w Warszawie\", \"wikidata\" => \"Q2118294\", \"lit\" => \"yes\", \"highway\" => \"primary_link\"…))\n",
       " Way(4428923, [27167095, 11958626950, 27167097], Dict(\"oneway\" => \"yes\", \"lanes\" => \"3\", \"surface\" => \"asphalt\", \"name\" => \"Rondo Dżochara Dudajewa\", \"sidewalk:right\" => \"separate\", \"horse\" => \"no\", \"wikidata\" => \"Q4365545\", \"lit\" => \"yes\", \"highway\" => \"tertiary\", \"junction\" => \"circular\"…))\n",
       " Way(4428925, [27167095, 27167139, 2912063537, 1268441572, 311778186], Dict(\"oneway\" => \"yes\", \"lanes\" => \"2\", \"surface\" => \"asphalt\", \"parking:both\" => \"no\", \"name\" => \"Wschodu Słońca\", \"sidewalk:right\" => \"separate\", \"wikidata\" => \"Q112651235\", \"lit\" => \"yes\", \"highway\" => \"residential\", \"old_name\" => \"Popularna\"…))\n",
       " Way(4428926, [1804525302, 27167143, 5895697153, 27167144, 8307149966, 11958626956, 2912063542, 399293462, 27167097], Dict(\"oneway\" => \"yes\", \"lanes\" => \"3\", \"surface\" => \"asphalt\", \"name\" => \"Wschodu Słońca\", \"sidewalk:right\" => \"separate\", \"wikidata\" => \"Q112651235\", \"lit\" => \"yes\", \"highway\" => \"residential\", \"turn:lanes\" => \"left;through|through|right\", \"old_name\" => \"Popularna\"…))\n",
       " Way(4616430, [26308851, 10162185994, 2508402144, 2645905134, 2481236852, 2763159890, 2763159880, 3451086723, 33739747, 2481232501, 26308852], Dict(\"lit\" => \"yes\", \"name\" => \"Rabindranatha Tagore\", \"oneway\" => \"no\", \"source:maxspeed\" => \"PL:urban\", \"highway\" => \"residential\", \"lanes\" => \"2\", \"maxspeed\" => \"50\", \"surface\" => \"asphalt\", \"sidewalk:both\" => \"separate\", \"wikidata\" => \"Q124833538\"…))\n",
       " Way(4812217, [146565875, 5590114027, 4450657720, 5242810135, 1273007081, 146565879, 10554498091, 10761201278, 7140183274], Dict(\"cycleway\" => \"lane\", \"lit\" => \"yes\", \"name\" => \"Juliana Konstantego Ordona\", \"source:maxspeed\" => \"PL:zone30\", \"highway\" => \"residential\", \"lanes\" => \"2\", \"sidewalk\" => \"separate\", \"maxspeed\" => \"30\", \"surface\" => \"asphalt\", \"wikidata\" => \"Q98542676\"…))\n",
       " ⋮\n",
       " Way(1354258587, [6329659096, 12532431580, 12532431578, 12532431579, 12532431577, 10065419193], Dict(\"oneway\" => \"yes\", \"smoothness\" => \"excellent\", \"highway\" => \"residential\", \"lanes\" => \"1\", \"lane_markings\" => \"no\", \"surface\" => \"asphalt\", \"description\" => \"33KD-D\", \"noname\" => \"yes\"))\n",
       " Way(1354258589, [12531626661, 6329658948, 10266098298, 11740839344, 10286512821, 6329659108], Dict(\"highway\" => \"service\", \"service\" => \"driveway\", \"surface\" => \"paving_stones\"))\n",
       " Way(1354732648, [243664027, 12537075557, 10744901762, 10744901763, 10572791231, 10572797709], Dict(\"lit\" => \"yes\", \"name\" => \"Kolejowa\", \"sidewalk:left\" => \"separate\", \"oneway\" => \"no\", \"sidewalk:right\" => \"no\", \"wikipedia\" => \"pl:Ulica Kolejowa w Warszawie\", \"highway\" => \"residential\", \"lanes\" => \"2\", \"surface\" => \"asphalt\", \"wikidata\" => \"Q9365479\"…))\n",
       " Way(1354873577, [11158591032, 9120007921], Dict(\"highway\" => \"service\"))\n",
       " Way(1355015815, [411421640, 9043700428], Dict(\"highway\" => \"service\", \"service\" => \"driveway\"))\n",
       " Way(1355015819, [10576765464, 10576765467, 12539935296, 10576765463], Dict(\"highway\" => \"service\", \"service\" => \"driveway\"))\n",
       " Way(1355018382, [9043700420, 9149451598, 9149451597], Dict(\"highway\" => \"service\", \"service\" => \"driveway\"))\n",
       " Way(1355018385, [9104321226, 9105667618], Dict(\"name\" => \"Sławińska\", \"sidewalk:left\" => \"no\", \"sidewalk:right\" => \"separate\", \"parking:left\" => \"lane\", \"highway\" => \"residential\", \"surface\" => \"paving_stones\", \"wikidata\" => \"Q106975134\"))\n",
       " Way(1355018386, [411421680, 4295224663, 9104321279, 9104321280, 9104319112, 9104321226], Dict(\"name\" => \"Sławińska\", \"parking:left\" => \"lane\", \"highway\" => \"residential\", \"sidewalk\" => \"separate\", \"surface\" => \"paving_stones\", \"wikidata\" => \"Q106975134\"))"
      ]
     },
     "metadata": {},
     "output_type": "display_data"
    }
   ],
   "source": [
    "parsed = OpenStreetMapX.parseOSM(string(dir_in,\"/\",osm_file))\n",
    "ways = parsed.ways\n",
    "filtered_ways = OSMXGraph.filter_ways(ways,road_types)"
   ]
  },
  {
   "cell_type": "markdown",
   "metadata": {},
   "source": [
    "### 2. Finding nodes and edges\n",
    "The step is performed based on filtered roadway vector. The function 'find intersaction' \n",
    "iterates through all roads and their nodes. A road point is considered a graph node \n",
    "if it is a starting or ending point of a road or if the it is an intersecion of \n",
    "roads (i.e, the function has already encountered the point during the iteration). As a result, \n",
    "each roadway retains only those points that are starting/ending points or \n",
    "intersections. Edges are created in the 'ways\\_to\\_edges' function by pairing the nearest \n",
    "nodes. Edges represent one-way roads, so if a road is bidirectional, the roadway is \n",
    "split into one-directional ways. "
   ]
  },
  {
   "cell_type": "code",
   "execution_count": 15,
   "metadata": {},
   "outputs": [
    {
     "data": {
      "text/plain": [
       "16041-element Vector{Main.OSMXGraph.Edge}:\n",
       " Main.OSMXGraph.Edge(1, 1984, 1983, 1949648310, 9265228166, LLA(52.2159197, 20.979194, 0.0), LLA(52.2154663, 20.9783547, 0.0), 184475036, \"service\")\n",
       " Main.OSMXGraph.Edge(2, 1983, 1984, 9265228166, 1949648310, LLA(52.2154663, 20.9783547, 0.0), LLA(52.2159197, 20.979194, 0.0), 184475036, \"service\")\n",
       " Main.OSMXGraph.Edge(3, 6218, 3505, 10061787376, 4737816385, LLA(52.2261023, 20.9485905, 0.0), LLA(52.2260864, 20.9485331, 0.0), 480820625, \"service\")\n",
       " Main.OSMXGraph.Edge(4, 3505, 6218, 4737816385, 10061787376, LLA(52.2260864, 20.9485331, 0.0), LLA(52.2261023, 20.9485905, 0.0), 480820625, \"service\")\n",
       " Main.OSMXGraph.Edge(5, 3507, 6218, 4737816383, 10061787376, LLA(52.2262104, 20.9489546, 0.0), LLA(52.2261023, 20.9485905, 0.0), 480820625, \"service\")\n",
       " Main.OSMXGraph.Edge(6, 6218, 3507, 10061787376, 4737816383, LLA(52.2261023, 20.9485905, 0.0), LLA(52.2262104, 20.9489546, 0.0), 480820625, \"service\")\n",
       " Main.OSMXGraph.Edge(7, 3506, 3507, 4737816384, 4737816383, LLA(52.2259944, 20.9491358, 0.0), LLA(52.2262104, 20.9489546, 0.0), 480820625, \"service\")\n",
       " Main.OSMXGraph.Edge(8, 3507, 3506, 4737816383, 4737816384, LLA(52.2262104, 20.9489546, 0.0), LLA(52.2259944, 20.9491358, 0.0), 480820625, \"service\")\n",
       " Main.OSMXGraph.Edge(9, 1112, 1115, 410795423, 410795427, LLA(52.1945987, 20.9597128, 0.0), LLA(52.1944948, 20.960073, 0.0), 35023397, \"service\")\n",
       " Main.OSMXGraph.Edge(10, 1115, 1112, 410795427, 410795423, LLA(52.1944948, 20.960073, 0.0), LLA(52.1945987, 20.9597128, 0.0), 35023397, \"service\")\n",
       " ⋮\n",
       " Main.OSMXGraph.Edge(16033, 3092, 3090, 4012946501, 9266869396, LLA(52.206921, 20.9972603, 0.0), LLA(52.2071929, 20.9978522, 0.0), 398545748, \"service\")\n",
       " Main.OSMXGraph.Edge(16034, 8036, 8037, 12467212836, 12467212838, LLA(52.2076047, 21.0005139, 0.0), LLA(52.2075714, 21.0005293, 0.0), 1347798960, \"service\")\n",
       " Main.OSMXGraph.Edge(16035, 8037, 8036, 12467212838, 12467212836, LLA(52.2075714, 21.0005293, 0.0), LLA(52.2076047, 21.0005139, 0.0), 1347798960, \"service\")\n",
       " Main.OSMXGraph.Edge(16036, 1018, 3578, 302913213, 302913215, LLA(52.2157537, 20.9585266, 0.0), LLA(52.2159746, 20.9583001, 0.0), 504532932, \"service\")\n",
       " Main.OSMXGraph.Edge(16037, 3578, 1018, 302913215, 302913213, LLA(52.2159746, 20.9583001, 0.0), LLA(52.2157537, 20.9585266, 0.0), 504532932, \"service\")\n",
       " Main.OSMXGraph.Edge(16038, 5558, 5560, 9264715225, 9264715235, LLA(52.2110302, 20.9751722, 0.0), LLA(52.2112003, 20.975329, 0.0), 1004093716, \"service\")\n",
       " Main.OSMXGraph.Edge(16039, 5560, 5558, 9264715235, 9264715225, LLA(52.2112003, 20.975329, 0.0), LLA(52.2110302, 20.9751722, 0.0), 1004093716, \"service\")\n",
       " Main.OSMXGraph.Edge(16040, 5561, 5558, 9264715241, 9264715225, LLA(52.210851, 20.9749013, 0.0), LLA(52.2110302, 20.9751722, 0.0), 1004093716, \"service\")\n",
       " Main.OSMXGraph.Edge(16041, 5558, 5561, 9264715225, 9264715241, LLA(52.2110302, 20.9751722, 0.0), LLA(52.210851, 20.9749013, 0.0), 1004093716, \"service\")"
      ]
     },
     "metadata": {},
     "output_type": "display_data"
    }
   ],
   "source": [
    "ways_intersections, intersections, road_tags, nodes = OSMXGraph.find_intersections(filtered_ways, parsed)\n",
    "edges = OSMXGraph.ways_to_edges(ways_intersections,road_tags,parsed,nodes)"
   ]
  },
  {
   "cell_type": "markdown",
   "metadata": {},
   "source": [
    "### 3. Building data structures\n",
    "The data frame for graph metadata is created based on the edges generated in the previous step. Each row\n",
    "represents a one-way road and includes both node and way IDs from OSM file. Additionally, each node\n",
    "and way is assigned new IDs (consecutive natural numbers) required for creating graph matrix and spatial\n",
    "indexing structures. The road graph is represented as a sparse adjacency matrix for efficiency. The sparse\n",
    "matrix maps ’from id’ and ’to id’ to the road’s id. The ’create road graph’ function also generates KDTree\n",
    "spatial index for location of the road nodes."
   ]
  },
  {
   "cell_type": "code",
   "execution_count": 16,
   "metadata": {},
   "outputs": [
    {
     "data": {
      "text/html": [
       "<div><div style = \"float: left;\"><span>16041×9 DataFrame</span></div><div style = \"float: right;\"><span style = \"font-style: italic;\">16016 rows omitted</span></div><div style = \"clear: both;\"></div></div><div class = \"data-frame\" style = \"overflow-x: scroll;\"><table class = \"data-frame\" style = \"margin-bottom: 6px;\"><thead><tr class = \"header\"><th class = \"rowNumber\" style = \"font-weight: bold; text-align: right;\">Row</th><th style = \"text-align: left;\">id</th><th style = \"text-align: left;\">from_id</th><th style = \"text-align: left;\">to_id</th><th style = \"text-align: left;\">from</th><th style = \"text-align: left;\">to</th><th style = \"text-align: left;\">from_LLA</th><th style = \"text-align: left;\">to_LLA</th><th style = \"text-align: left;\">way</th><th style = \"text-align: left;\">type</th></tr><tr class = \"subheader headerLastRow\"><th class = \"rowNumber\" style = \"font-weight: bold; text-align: right;\"></th><th title = \"Int64\" style = \"text-align: left;\">Int64</th><th title = \"Int64\" style = \"text-align: left;\">Int64</th><th title = \"Int64\" style = \"text-align: left;\">Int64</th><th title = \"Int64\" style = \"text-align: left;\">Int64</th><th title = \"Int64\" style = \"text-align: left;\">Int64</th><th title = \"LLA\" style = \"text-align: left;\">LLA</th><th title = \"LLA\" style = \"text-align: left;\">LLA</th><th title = \"Int64\" style = \"text-align: left;\">Int64</th><th title = \"String\" style = \"text-align: left;\">String</th></tr></thead><tbody><tr><td class = \"rowNumber\" style = \"font-weight: bold; text-align: right;\">1</td><td style = \"text-align: right;\">1</td><td style = \"text-align: right;\">1984</td><td style = \"text-align: right;\">1983</td><td style = \"text-align: right;\">1949648310</td><td style = \"text-align: right;\">9265228166</td><td style = \"text-align: left;\">LLA(52.2159, 20.9792, 0.0)</td><td style = \"text-align: left;\">LLA(52.2155, 20.9784, 0.0)</td><td style = \"text-align: right;\">184475036</td><td style = \"text-align: left;\">service</td></tr><tr><td class = \"rowNumber\" style = \"font-weight: bold; text-align: right;\">2</td><td style = \"text-align: right;\">2</td><td style = \"text-align: right;\">1983</td><td style = \"text-align: right;\">1984</td><td style = \"text-align: right;\">9265228166</td><td style = \"text-align: right;\">1949648310</td><td style = \"text-align: left;\">LLA(52.2155, 20.9784, 0.0)</td><td style = \"text-align: left;\">LLA(52.2159, 20.9792, 0.0)</td><td style = \"text-align: right;\">184475036</td><td style = \"text-align: left;\">service</td></tr><tr><td class = \"rowNumber\" style = \"font-weight: bold; text-align: right;\">3</td><td style = \"text-align: right;\">3</td><td style = \"text-align: right;\">6218</td><td style = \"text-align: right;\">3505</td><td style = \"text-align: right;\">10061787376</td><td style = \"text-align: right;\">4737816385</td><td style = \"text-align: left;\">LLA(52.2261, 20.9486, 0.0)</td><td style = \"text-align: left;\">LLA(52.2261, 20.9485, 0.0)</td><td style = \"text-align: right;\">480820625</td><td style = \"text-align: left;\">service</td></tr><tr><td class = \"rowNumber\" style = \"font-weight: bold; text-align: right;\">4</td><td style = \"text-align: right;\">4</td><td style = \"text-align: right;\">3505</td><td style = \"text-align: right;\">6218</td><td style = \"text-align: right;\">4737816385</td><td style = \"text-align: right;\">10061787376</td><td style = \"text-align: left;\">LLA(52.2261, 20.9485, 0.0)</td><td style = \"text-align: left;\">LLA(52.2261, 20.9486, 0.0)</td><td style = \"text-align: right;\">480820625</td><td style = \"text-align: left;\">service</td></tr><tr><td class = \"rowNumber\" style = \"font-weight: bold; text-align: right;\">5</td><td style = \"text-align: right;\">5</td><td style = \"text-align: right;\">3507</td><td style = \"text-align: right;\">6218</td><td style = \"text-align: right;\">4737816383</td><td style = \"text-align: right;\">10061787376</td><td style = \"text-align: left;\">LLA(52.2262, 20.949, 0.0)</td><td style = \"text-align: left;\">LLA(52.2261, 20.9486, 0.0)</td><td style = \"text-align: right;\">480820625</td><td style = \"text-align: left;\">service</td></tr><tr><td class = \"rowNumber\" style = \"font-weight: bold; text-align: right;\">6</td><td style = \"text-align: right;\">6</td><td style = \"text-align: right;\">6218</td><td style = \"text-align: right;\">3507</td><td style = \"text-align: right;\">10061787376</td><td style = \"text-align: right;\">4737816383</td><td style = \"text-align: left;\">LLA(52.2261, 20.9486, 0.0)</td><td style = \"text-align: left;\">LLA(52.2262, 20.949, 0.0)</td><td style = \"text-align: right;\">480820625</td><td style = \"text-align: left;\">service</td></tr><tr><td class = \"rowNumber\" style = \"font-weight: bold; text-align: right;\">7</td><td style = \"text-align: right;\">7</td><td style = \"text-align: right;\">3506</td><td style = \"text-align: right;\">3507</td><td style = \"text-align: right;\">4737816384</td><td style = \"text-align: right;\">4737816383</td><td style = \"text-align: left;\">LLA(52.226, 20.9491, 0.0)</td><td style = \"text-align: left;\">LLA(52.2262, 20.949, 0.0)</td><td style = \"text-align: right;\">480820625</td><td style = \"text-align: left;\">service</td></tr><tr><td class = \"rowNumber\" style = \"font-weight: bold; text-align: right;\">8</td><td style = \"text-align: right;\">8</td><td style = \"text-align: right;\">3507</td><td style = \"text-align: right;\">3506</td><td style = \"text-align: right;\">4737816383</td><td style = \"text-align: right;\">4737816384</td><td style = \"text-align: left;\">LLA(52.2262, 20.949, 0.0)</td><td style = \"text-align: left;\">LLA(52.226, 20.9491, 0.0)</td><td style = \"text-align: right;\">480820625</td><td style = \"text-align: left;\">service</td></tr><tr><td class = \"rowNumber\" style = \"font-weight: bold; text-align: right;\">9</td><td style = \"text-align: right;\">9</td><td style = \"text-align: right;\">1112</td><td style = \"text-align: right;\">1115</td><td style = \"text-align: right;\">410795423</td><td style = \"text-align: right;\">410795427</td><td style = \"text-align: left;\">LLA(52.1946, 20.9597, 0.0)</td><td style = \"text-align: left;\">LLA(52.1945, 20.9601, 0.0)</td><td style = \"text-align: right;\">35023397</td><td style = \"text-align: left;\">service</td></tr><tr><td class = \"rowNumber\" style = \"font-weight: bold; text-align: right;\">10</td><td style = \"text-align: right;\">10</td><td style = \"text-align: right;\">1115</td><td style = \"text-align: right;\">1112</td><td style = \"text-align: right;\">410795427</td><td style = \"text-align: right;\">410795423</td><td style = \"text-align: left;\">LLA(52.1945, 20.9601, 0.0)</td><td style = \"text-align: left;\">LLA(52.1946, 20.9597, 0.0)</td><td style = \"text-align: right;\">35023397</td><td style = \"text-align: left;\">service</td></tr><tr><td class = \"rowNumber\" style = \"font-weight: bold; text-align: right;\">11</td><td style = \"text-align: right;\">11</td><td style = \"text-align: right;\">3840</td><td style = \"text-align: right;\">1112</td><td style = \"text-align: right;\">5657249906</td><td style = \"text-align: right;\">410795423</td><td style = \"text-align: left;\">LLA(52.1949, 20.9587, 0.0)</td><td style = \"text-align: left;\">LLA(52.1946, 20.9597, 0.0)</td><td style = \"text-align: right;\">35023397</td><td style = \"text-align: left;\">service</td></tr><tr><td class = \"rowNumber\" style = \"font-weight: bold; text-align: right;\">12</td><td style = \"text-align: right;\">12</td><td style = \"text-align: right;\">1112</td><td style = \"text-align: right;\">3840</td><td style = \"text-align: right;\">410795423</td><td style = \"text-align: right;\">5657249906</td><td style = \"text-align: left;\">LLA(52.1946, 20.9597, 0.0)</td><td style = \"text-align: left;\">LLA(52.1949, 20.9587, 0.0)</td><td style = \"text-align: right;\">35023397</td><td style = \"text-align: left;\">service</td></tr><tr><td class = \"rowNumber\" style = \"font-weight: bold; text-align: right;\">13</td><td style = \"text-align: right;\">13</td><td style = \"text-align: right;\">7707</td><td style = \"text-align: right;\">3840</td><td style = \"text-align: right;\">10693675473</td><td style = \"text-align: right;\">5657249906</td><td style = \"text-align: left;\">LLA(52.1944, 20.958, 0.0)</td><td style = \"text-align: left;\">LLA(52.1949, 20.9587, 0.0)</td><td style = \"text-align: right;\">35023397</td><td style = \"text-align: left;\">service</td></tr><tr><td style = \"text-align: right;\">&vellip;</td><td style = \"text-align: right;\">&vellip;</td><td style = \"text-align: right;\">&vellip;</td><td style = \"text-align: right;\">&vellip;</td><td style = \"text-align: right;\">&vellip;</td><td style = \"text-align: right;\">&vellip;</td><td style = \"text-align: right;\">&vellip;</td><td style = \"text-align: right;\">&vellip;</td><td style = \"text-align: right;\">&vellip;</td><td style = \"text-align: right;\">&vellip;</td></tr><tr><td class = \"rowNumber\" style = \"font-weight: bold; text-align: right;\">16030</td><td style = \"text-align: right;\">16030</td><td style = \"text-align: right;\">3092</td><td style = \"text-align: right;\">3091</td><td style = \"text-align: right;\">4012946501</td><td style = \"text-align: right;\">4012946503</td><td style = \"text-align: left;\">LLA(52.2069, 20.9973, 0.0)</td><td style = \"text-align: left;\">LLA(52.207, 20.9969, 0.0)</td><td style = \"text-align: right;\">398545748</td><td style = \"text-align: left;\">service</td></tr><tr><td class = \"rowNumber\" style = \"font-weight: bold; text-align: right;\">16031</td><td style = \"text-align: right;\">16031</td><td style = \"text-align: right;\">3091</td><td style = \"text-align: right;\">3092</td><td style = \"text-align: right;\">4012946503</td><td style = \"text-align: right;\">4012946501</td><td style = \"text-align: left;\">LLA(52.207, 20.9969, 0.0)</td><td style = \"text-align: left;\">LLA(52.2069, 20.9973, 0.0)</td><td style = \"text-align: right;\">398545748</td><td style = \"text-align: left;\">service</td></tr><tr><td class = \"rowNumber\" style = \"font-weight: bold; text-align: right;\">16032</td><td style = \"text-align: right;\">16032</td><td style = \"text-align: right;\">3090</td><td style = \"text-align: right;\">3092</td><td style = \"text-align: right;\">9266869396</td><td style = \"text-align: right;\">4012946501</td><td style = \"text-align: left;\">LLA(52.2072, 20.9979, 0.0)</td><td style = \"text-align: left;\">LLA(52.2069, 20.9973, 0.0)</td><td style = \"text-align: right;\">398545748</td><td style = \"text-align: left;\">service</td></tr><tr><td class = \"rowNumber\" style = \"font-weight: bold; text-align: right;\">16033</td><td style = \"text-align: right;\">16033</td><td style = \"text-align: right;\">3092</td><td style = \"text-align: right;\">3090</td><td style = \"text-align: right;\">4012946501</td><td style = \"text-align: right;\">9266869396</td><td style = \"text-align: left;\">LLA(52.2069, 20.9973, 0.0)</td><td style = \"text-align: left;\">LLA(52.2072, 20.9979, 0.0)</td><td style = \"text-align: right;\">398545748</td><td style = \"text-align: left;\">service</td></tr><tr><td class = \"rowNumber\" style = \"font-weight: bold; text-align: right;\">16034</td><td style = \"text-align: right;\">16034</td><td style = \"text-align: right;\">8036</td><td style = \"text-align: right;\">8037</td><td style = \"text-align: right;\">12467212836</td><td style = \"text-align: right;\">12467212838</td><td style = \"text-align: left;\">LLA(52.2076, 21.0005, 0.0)</td><td style = \"text-align: left;\">LLA(52.2076, 21.0005, 0.0)</td><td style = \"text-align: right;\">1347798960</td><td style = \"text-align: left;\">service</td></tr><tr><td class = \"rowNumber\" style = \"font-weight: bold; text-align: right;\">16035</td><td style = \"text-align: right;\">16035</td><td style = \"text-align: right;\">8037</td><td style = \"text-align: right;\">8036</td><td style = \"text-align: right;\">12467212838</td><td style = \"text-align: right;\">12467212836</td><td style = \"text-align: left;\">LLA(52.2076, 21.0005, 0.0)</td><td style = \"text-align: left;\">LLA(52.2076, 21.0005, 0.0)</td><td style = \"text-align: right;\">1347798960</td><td style = \"text-align: left;\">service</td></tr><tr><td class = \"rowNumber\" style = \"font-weight: bold; text-align: right;\">16036</td><td style = \"text-align: right;\">16036</td><td style = \"text-align: right;\">1018</td><td style = \"text-align: right;\">3578</td><td style = \"text-align: right;\">302913213</td><td style = \"text-align: right;\">302913215</td><td style = \"text-align: left;\">LLA(52.2158, 20.9585, 0.0)</td><td style = \"text-align: left;\">LLA(52.216, 20.9583, 0.0)</td><td style = \"text-align: right;\">504532932</td><td style = \"text-align: left;\">service</td></tr><tr><td class = \"rowNumber\" style = \"font-weight: bold; text-align: right;\">16037</td><td style = \"text-align: right;\">16037</td><td style = \"text-align: right;\">3578</td><td style = \"text-align: right;\">1018</td><td style = \"text-align: right;\">302913215</td><td style = \"text-align: right;\">302913213</td><td style = \"text-align: left;\">LLA(52.216, 20.9583, 0.0)</td><td style = \"text-align: left;\">LLA(52.2158, 20.9585, 0.0)</td><td style = \"text-align: right;\">504532932</td><td style = \"text-align: left;\">service</td></tr><tr><td class = \"rowNumber\" style = \"font-weight: bold; text-align: right;\">16038</td><td style = \"text-align: right;\">16038</td><td style = \"text-align: right;\">5558</td><td style = \"text-align: right;\">5560</td><td style = \"text-align: right;\">9264715225</td><td style = \"text-align: right;\">9264715235</td><td style = \"text-align: left;\">LLA(52.211, 20.9752, 0.0)</td><td style = \"text-align: left;\">LLA(52.2112, 20.9753, 0.0)</td><td style = \"text-align: right;\">1004093716</td><td style = \"text-align: left;\">service</td></tr><tr><td class = \"rowNumber\" style = \"font-weight: bold; text-align: right;\">16039</td><td style = \"text-align: right;\">16039</td><td style = \"text-align: right;\">5560</td><td style = \"text-align: right;\">5558</td><td style = \"text-align: right;\">9264715235</td><td style = \"text-align: right;\">9264715225</td><td style = \"text-align: left;\">LLA(52.2112, 20.9753, 0.0)</td><td style = \"text-align: left;\">LLA(52.211, 20.9752, 0.0)</td><td style = \"text-align: right;\">1004093716</td><td style = \"text-align: left;\">service</td></tr><tr><td class = \"rowNumber\" style = \"font-weight: bold; text-align: right;\">16040</td><td style = \"text-align: right;\">16040</td><td style = \"text-align: right;\">5561</td><td style = \"text-align: right;\">5558</td><td style = \"text-align: right;\">9264715241</td><td style = \"text-align: right;\">9264715225</td><td style = \"text-align: left;\">LLA(52.2109, 20.9749, 0.0)</td><td style = \"text-align: left;\">LLA(52.211, 20.9752, 0.0)</td><td style = \"text-align: right;\">1004093716</td><td style = \"text-align: left;\">service</td></tr><tr><td class = \"rowNumber\" style = \"font-weight: bold; text-align: right;\">16041</td><td style = \"text-align: right;\">16041</td><td style = \"text-align: right;\">5558</td><td style = \"text-align: right;\">5561</td><td style = \"text-align: right;\">9264715225</td><td style = \"text-align: right;\">9264715241</td><td style = \"text-align: left;\">LLA(52.211, 20.9752, 0.0)</td><td style = \"text-align: left;\">LLA(52.2109, 20.9749, 0.0)</td><td style = \"text-align: right;\">1004093716</td><td style = \"text-align: left;\">service</td></tr></tbody></table></div>"
      ],
      "text/latex": [
       "\\begin{tabular}{r|cccccccc}\n",
       "\t& id & from\\_id & to\\_id & from & to & from\\_LLA & to\\_LLA & \\\\\n",
       "\t\\hline\n",
       "\t& Int64 & Int64 & Int64 & Int64 & Int64 & LLA & LLA & \\\\\n",
       "\t\\hline\n",
       "\t1 & 1 & 1984 & 1983 & 1949648310 & 9265228166 & LLA(52.2159, 20.9792, 0.0) & LLA(52.2155, 20.9784, 0.0) & $\\dots$ \\\\\n",
       "\t2 & 2 & 1983 & 1984 & 9265228166 & 1949648310 & LLA(52.2155, 20.9784, 0.0) & LLA(52.2159, 20.9792, 0.0) & $\\dots$ \\\\\n",
       "\t3 & 3 & 6218 & 3505 & 10061787376 & 4737816385 & LLA(52.2261, 20.9486, 0.0) & LLA(52.2261, 20.9485, 0.0) & $\\dots$ \\\\\n",
       "\t4 & 4 & 3505 & 6218 & 4737816385 & 10061787376 & LLA(52.2261, 20.9485, 0.0) & LLA(52.2261, 20.9486, 0.0) & $\\dots$ \\\\\n",
       "\t5 & 5 & 3507 & 6218 & 4737816383 & 10061787376 & LLA(52.2262, 20.949, 0.0) & LLA(52.2261, 20.9486, 0.0) & $\\dots$ \\\\\n",
       "\t6 & 6 & 6218 & 3507 & 10061787376 & 4737816383 & LLA(52.2261, 20.9486, 0.0) & LLA(52.2262, 20.949, 0.0) & $\\dots$ \\\\\n",
       "\t7 & 7 & 3506 & 3507 & 4737816384 & 4737816383 & LLA(52.226, 20.9491, 0.0) & LLA(52.2262, 20.949, 0.0) & $\\dots$ \\\\\n",
       "\t8 & 8 & 3507 & 3506 & 4737816383 & 4737816384 & LLA(52.2262, 20.949, 0.0) & LLA(52.226, 20.9491, 0.0) & $\\dots$ \\\\\n",
       "\t9 & 9 & 1112 & 1115 & 410795423 & 410795427 & LLA(52.1946, 20.9597, 0.0) & LLA(52.1945, 20.9601, 0.0) & $\\dots$ \\\\\n",
       "\t10 & 10 & 1115 & 1112 & 410795427 & 410795423 & LLA(52.1945, 20.9601, 0.0) & LLA(52.1946, 20.9597, 0.0) & $\\dots$ \\\\\n",
       "\t11 & 11 & 3840 & 1112 & 5657249906 & 410795423 & LLA(52.1949, 20.9587, 0.0) & LLA(52.1946, 20.9597, 0.0) & $\\dots$ \\\\\n",
       "\t12 & 12 & 1112 & 3840 & 410795423 & 5657249906 & LLA(52.1946, 20.9597, 0.0) & LLA(52.1949, 20.9587, 0.0) & $\\dots$ \\\\\n",
       "\t13 & 13 & 7707 & 3840 & 10693675473 & 5657249906 & LLA(52.1944, 20.958, 0.0) & LLA(52.1949, 20.9587, 0.0) & $\\dots$ \\\\\n",
       "\t14 & 14 & 3840 & 7707 & 5657249906 & 10693675473 & LLA(52.1949, 20.9587, 0.0) & LLA(52.1944, 20.958, 0.0) & $\\dots$ \\\\\n",
       "\t15 & 15 & 7258 & 7707 & 10693675477 & 10693675473 & LLA(52.1942, 20.9578, 0.0) & LLA(52.1944, 20.958, 0.0) & $\\dots$ \\\\\n",
       "\t16 & 16 & 7707 & 7258 & 10693675473 & 10693675477 & LLA(52.1944, 20.958, 0.0) & LLA(52.1942, 20.9578, 0.0) & $\\dots$ \\\\\n",
       "\t17 & 17 & 7255 & 7258 & 10693675476 & 10693675477 & LLA(52.194, 20.9576, 0.0) & LLA(52.1942, 20.9578, 0.0) & $\\dots$ \\\\\n",
       "\t18 & 18 & 7258 & 7255 & 10693675477 & 10693675476 & LLA(52.1942, 20.9578, 0.0) & LLA(52.194, 20.9576, 0.0) & $\\dots$ \\\\\n",
       "\t19 & 19 & 1116 & 7255 & 11992768342 & 10693675476 & LLA(52.1939, 20.9576, 0.0) & LLA(52.194, 20.9576, 0.0) & $\\dots$ \\\\\n",
       "\t20 & 20 & 7255 & 1116 & 10693675476 & 11992768342 & LLA(52.194, 20.9576, 0.0) & LLA(52.1939, 20.9576, 0.0) & $\\dots$ \\\\\n",
       "\t21 & 21 & 1615 & 1611 & 1344373825 & 3035843799 & LLA(52.2201, 21.005, 0.0) & LLA(52.221, 21.005, 0.0) & $\\dots$ \\\\\n",
       "\t22 & 22 & 4787 & 4786 & 3572608819 & 2768575951 & LLA(52.2019, 20.997, 0.0) & LLA(52.2019, 20.9971, 0.0) & $\\dots$ \\\\\n",
       "\t23 & 23 & 4786 & 4787 & 2768575951 & 3572608819 & LLA(52.2019, 20.9971, 0.0) & LLA(52.2019, 20.997, 0.0) & $\\dots$ \\\\\n",
       "\t24 & 24 & 5030 & 5029 & 9043700425 & 9043700428 & LLA(52.2234, 20.9705, 0.0) & LLA(52.2235, 20.9712, 0.0) & $\\dots$ \\\\\n",
       "\t$\\dots$ & $\\dots$ & $\\dots$ & $\\dots$ & $\\dots$ & $\\dots$ & $\\dots$ & $\\dots$ &  \\\\\n",
       "\\end{tabular}\n"
      ],
      "text/plain": [
       "\u001b[1m16041×9 DataFrame\u001b[0m\n",
       "\u001b[1m   Row \u001b[0m│\u001b[1m id    \u001b[0m\u001b[1m from_id \u001b[0m\u001b[1m to_id \u001b[0m\u001b[1m from        \u001b[0m\u001b[1m to          \u001b[0m\u001b[1m from_LLA            \u001b[0m ⋯\n",
       "       │\u001b[90m Int64 \u001b[0m\u001b[90m Int64   \u001b[0m\u001b[90m Int64 \u001b[0m\u001b[90m Int64       \u001b[0m\u001b[90m Int64       \u001b[0m\u001b[90m LLA                 \u001b[0m ⋯\n",
       "───────┼────────────────────────────────────────────────────────────────────────\n",
       "     1 │     1     1984   1983   1949648310   9265228166  LLA(52.2159, 20.9792 ⋯\n",
       "     2 │     2     1983   1984   9265228166   1949648310  LLA(52.2155, 20.9784\n",
       "     3 │     3     6218   3505  10061787376   4737816385  LLA(52.2261, 20.9486\n",
       "     4 │     4     3505   6218   4737816385  10061787376  LLA(52.2261, 20.9485\n",
       "     5 │     5     3507   6218   4737816383  10061787376  LLA(52.2262, 20.949, ⋯\n",
       "     6 │     6     6218   3507  10061787376   4737816383  LLA(52.2261, 20.9486\n",
       "     7 │     7     3506   3507   4737816384   4737816383  LLA(52.226, 20.9491,\n",
       "     8 │     8     3507   3506   4737816383   4737816384  LLA(52.2262, 20.949,\n",
       "   ⋮   │   ⋮       ⋮       ⋮         ⋮            ⋮                   ⋮        ⋱\n",
       " 16035 │ 16035     8037   8036  12467212838  12467212836  LLA(52.2076, 21.0005 ⋯\n",
       " 16036 │ 16036     1018   3578    302913213    302913215  LLA(52.2158, 20.9585\n",
       " 16037 │ 16037     3578   1018    302913215    302913213  LLA(52.216, 20.9583,\n",
       " 16038 │ 16038     5558   5560   9264715225   9264715235  LLA(52.211, 20.9752,\n",
       " 16039 │ 16039     5560   5558   9264715235   9264715225  LLA(52.2112, 20.9753 ⋯\n",
       " 16040 │ 16040     5561   5558   9264715241   9264715225  LLA(52.2109, 20.9749\n",
       " 16041 │ 16041     5558   5561   9264715225   9264715241  LLA(52.211, 20.9752,\n",
       "\u001b[36m                                                4 columns and 16026 rows omitted\u001b[0m"
      ]
     },
     "metadata": {},
     "output_type": "display_data"
    }
   ],
   "source": [
    "df = OSMXGraph.edges_to_df(edges)"
   ]
  },
  {
   "cell_type": "code",
   "execution_count": 1,
   "metadata": {},
   "outputs": [
    {
     "ename": "UndefVarError",
     "evalue": "UndefVarError: `OSMXGraph` not defined",
     "output_type": "error",
     "traceback": [
      "UndefVarError: `OSMXGraph` not defined\n",
      "\n",
      "Stacktrace:\n",
      " [1] top-level scope\n",
      "   @ ~/Julia/map_analyses/OSMXGraph/example/jl_notebook_cell_df34fa98e69747e1a8f8a730347b8e2f_X11sZmlsZQ==.jl:1"
     ]
    }
   ],
   "source": [
    "sparse_index = OSMXGraph.create_sparse_index(df.from_id,df.to_id,df.id)"
   ]
  },
  {
   "cell_type": "markdown",
   "metadata": {},
   "source": [
    "### 4. Finding Nearest Points\n",
    "The module uses OSMToolset POI data frame as a base for further calculations. It takes\n",
    "the POI metadata structure as input and extends it by a new column with the ID of the\n",
    "nearest road node, using the KDTree spatial index created in the previous step.  "
   ]
  },
  {
   "cell_type": "code",
   "execution_count": 18,
   "metadata": {},
   "outputs": [
    {
     "data": {
      "text/plain": [
       "NearestNeighbors.KDTree{StaticArraysCore.SVector{2, Float64}, Distances.Euclidean, Float64, StaticArraysCore.SVector{2, Float64}}\n",
       "  Number of points: 8108\n",
       "  Dimensions: 2\n",
       "  Metric: Distances.Euclidean(0.0)\n",
       "  Reordered: false"
      ]
     },
     "metadata": {},
     "output_type": "display_data"
    }
   ],
   "source": [
    "lats = [node[1].lat for node in values(nodes)]\n",
    "lons = [node[1].lon for node in values(nodes)]\n",
    "vals = [node[2] for node in values(nodes)]\n",
    "road_mtrx = Matrix(transpose([lats lons]))\n",
    "road_index = OSMXGraph.create_road_index(road_mtrx)"
   ]
  },
  {
   "cell_type": "markdown",
   "metadata": {},
   "source": [
    "The building process can be shortened if some of the structures are saved as files. The \n",
    "module allows for saving and reading both graph metadata and POI data frames as .csv \n",
    "files. Additionally, there is an option to save a hashmap with the key as 'OSM node id' \n",
    "and the value as [geodetic coordinates, graph ID]. The sparse matrix and KDTree are not \n",
    "saved but can be quickly regenerated based on saved files."
   ]
  },
  {
   "cell_type": "markdown",
   "metadata": {},
   "source": [
    "## Workflow\n",
    "\n",
    "The above pipeline is implemented in the functions create_road_graph and add_nearest_road_point. A use case is presented below."
   ]
  },
  {
   "cell_type": "code",
   "execution_count": 19,
   "metadata": {},
   "outputs": [
    {
     "data": {
      "text/plain": [
       "\"./poi_with_nearest_points.csv\""
      ]
     },
     "metadata": {},
     "output_type": "display_data"
    }
   ],
   "source": [
    "#include(\"../src/OSMXGraph.jl\")\n",
    "#using .OSMXGraph\n",
    "#using OSMToolset\n",
    "dir_in = \"data\"\n",
    "road_types = [\"motorway\", \"trunk\", \"primary\", \"secondary\", \n",
    "            \"tertiary\", \"residential\", \"service\", \"living_street\", \n",
    "            \"motorway_link\", \"trunk_link\", \"primary_link\", \"secondary_link\", \n",
    "            \"tertiary_link\"]  \n",
    "df, sparse_index, road_index, node_ids = OSMXGraph.create_road_graph(\"Ochota.osm\", road_types,\"Ochota_graph.csv\",\"Ochota_nodes.json\",dir_in=dir_in)\n",
    "POI_df = OSMToolset.find_poi(string(dir_in,\"/\",\"Ochota.osm\"))\n",
    "POI_xs = POI_df.lat\n",
    "POI_ys = POI_df.lon\n",
    "poi_with_nearest_points = OSMXGraph.add_nearest_road_point(POI_df,POI_xs, POI_ys, road_index, node_ids)\n",
    "OSMXGraph.save_file(poi_with_nearest_points,\"poi_with_nearest_points.csv\")"
   ]
  }
 ],
 "metadata": {
  "kernelspec": {
   "display_name": "Julia 1.10.4",
   "language": "julia",
   "name": "julia-1.10"
  },
  "language_info": {
   "file_extension": ".jl",
   "mimetype": "application/julia",
   "name": "julia",
   "version": "1.10.4"
  }
 },
 "nbformat": 4,
 "nbformat_minor": 2
}
