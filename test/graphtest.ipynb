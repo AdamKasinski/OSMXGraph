{
 "cells": [
  {
   "cell_type": "code",
   "execution_count": 2,
   "metadata": {},
   "outputs": [
    {
     "name": "stderr",
     "output_type": "stream",
     "text": [
      "WARNING: replacing module OSMXGraph.\n"
     ]
    }
   ],
   "source": [
    "include(\"../src/OSMXGraph.jl\")\n",
    "using .OSMXGraph\n",
    "using OSMToolset\n",
    "using CSV"
   ]
  },
  {
   "cell_type": "code",
   "execution_count": 3,
   "metadata": {},
   "outputs": [
    {
     "data": {
      "text/plain": [
       "200.0"
      ]
     },
     "metadata": {},
     "output_type": "display_data"
    }
   ],
   "source": [
    "city = \"Warszawa\"\n",
    "admin_level = \"6\"\n",
    "search_area = 500\n",
    "attr = :education\n",
    "wilderness_distance = 300\n",
    "shape = \"rectangle\"\n",
    "calculate_percent = true\n",
    "num_of_points = 100\n",
    "distance_sectors = 200.0\n",
    "#scrape_config = \"../poi_config_test.csv\""
   ]
  },
  {
   "cell_type": "code",
   "execution_count": 9,
   "metadata": {},
   "outputs": [
    {
     "data": {
      "text/plain": [
       "\"../data\""
      ]
     },
     "metadata": {},
     "output_type": "display_data"
    }
   ],
   "source": [
    "dir_in = \"../data\"\n",
    "#dir_out = \"../graph_results\""
   ]
  },
  {
   "cell_type": "code",
   "execution_count": 5,
   "metadata": {},
   "outputs": [
    {
     "data": {
      "text/plain": [
       "13-element Vector{String}:\n",
       " \"motorway\"\n",
       " \"trunk\"\n",
       " \"primary\"\n",
       " \"secondary\"\n",
       " \"tertiary\"\n",
       " \"residential\"\n",
       " \"service\"\n",
       " \"living_street\"\n",
       " \"motorway_link\"\n",
       " \"trunk_link\"\n",
       " \"primary_link\"\n",
       " \"secondary_link\"\n",
       " \"tertiary_link\""
      ]
     },
     "metadata": {},
     "output_type": "display_data"
    }
   ],
   "source": [
    "road_types = [\"motorway\", \"trunk\", \"primary\", \"secondary\", \n",
    "            \"tertiary\", \"residential\", \"service\", \"living_street\", \n",
    "            \"motorway_link\", \"trunk_link\", \"primary_link\", \"secondary_link\", \n",
    "            \"tertiary_link\"]  "
   ]
  },
  {
   "cell_type": "code",
   "execution_count": 10,
   "metadata": {},
   "outputs": [
    {
     "data": {
      "text/plain": [
       "(\u001b[1m47385×9 DataFrame\u001b[0m\n",
       "\u001b[1m   Row \u001b[0m│\u001b[1m id    \u001b[0m\u001b[1m from_id \u001b[0m\u001b[1m to_id \u001b[0m\u001b[1m from        \u001b[0m\u001b[1m to          \u001b[0m\u001b[1m from_LLA            \u001b[0m ⋯\n",
       "       │\u001b[90m Int64 \u001b[0m\u001b[90m Int64   \u001b[0m\u001b[90m Int64 \u001b[0m\u001b[90m Int64       \u001b[0m\u001b[90m Int64       \u001b[0m\u001b[90m LLA                 \u001b[0m ⋯\n",
       "───────┼────────────────────────────────────────────────────────────────────────\n",
       "     1 │     1     9966   3276   6345928771   2334226606  LLA(50.9015, 20.5888 ⋯\n",
       "     2 │     2     7510   7511   3590345306   3590340944  LLA(50.8435, 20.6432\n",
       "     3 │     3     7511   7510   3590340944   3590345306  LLA(50.8435, 20.6431\n",
       "     4 │     4     2671    423   2085021154    417933782  LLA(50.8811, 20.613,\n",
       "     5 │     5      423   2671    417933782   2085021154  LLA(50.8807, 20.6142 ⋯\n",
       "     6 │     6    11664   2671   7818064507   2085021154  LLA(50.8812, 20.6127\n",
       "     7 │     7     2671  11664   2085021154   7818064507  LLA(50.8811, 20.613,\n",
       "     8 │     8    11008  11664   7243570383   7818064507  LLA(50.8813, 20.6122\n",
       "   ⋮   │   ⋮       ⋮       ⋮         ⋮            ⋮                   ⋮        ⋱\n",
       " 47379 │ 47379    15240  15239  10597786175   9392268077  LLA(50.868, 20.6073, ⋯\n",
       " 47380 │ 47380    15241  15239   9392268084   9392268077  LLA(50.8688, 20.608,\n",
       " 47381 │ 47381    15239  15241   9392268077   9392268084  LLA(50.8684, 20.6074\n",
       " 47382 │ 47382    15477  15476   9411616082   9411616076  LLA(50.8715, 20.6722\n",
       " 47383 │ 47383    15476  15477   9411616076   9411616082  LLA(50.8711, 20.672, ⋯\n",
       " 47384 │ 47384    13827  13826   9100506287   9100506288  LLA(50.9019, 20.6793\n",
       " 47385 │ 47385    13826  13827   9100506288   9100506287  LLA(50.902, 20.6791,\n",
       "\u001b[36m                                                4 columns and 47370 rows omitted\u001b[0m, sparse([3439, 8190, 11552, 9469, 11552, 8492, 10082, 17906, 8497, 14723  …  22646, 22645, 11750, 22648, 22649, 22647, 11749, 22647, 22650, 22649], [1, 1, 1, 2, 2, 3, 3, 3, 4, 4  …  22645, 22646, 22647, 22647, 22647, 22648, 22649, 22649, 22649, 22650], [32526, 32521, 32527, 28211, 32530, 23868, 33997, 33996, 23877, 27478  …  39397, 39398, 30759, 12293, 30758, 12294, 30756, 30757, 14917, 14918], 22650, 22650), NearestNeighbors.KDTree{StaticArraysCore.SVector{2, Float64}, Distances.Euclidean, Float64, StaticArraysCore.SVector{2, Float64}}\n",
       "  Number of points: 22650\n",
       "  Dimensions: 2\n",
       "  Metric: Distances.Euclidean(0.0)\n",
       "  Reordered: false, [4060, 14028, 13136, 18436, 5066, 13700, 16085, 10671, 17306, 15677  …  10787, 19938, 4099, 2615, 7680, 17050, 8843, 15794, 435, 5111])"
      ]
     },
     "metadata": {},
     "output_type": "display_data"
    }
   ],
   "source": [
    "df, sparse_index, road_index, node_ids = OSMXGraph.create_road_graph(\"Kielce.osm\", road_types,\"kielce_graph.csv\",\"kielce_nodes.json\",dir_in=dir_in)#,dir_out=dir_out)"
   ]
  },
  {
   "cell_type": "code",
   "execution_count": 11,
   "metadata": {},
   "outputs": [
    {
     "data": {
      "text/plain": [
       "(\u001b[1m47385×9 DataFrame\u001b[0m\n",
       "\u001b[1m   Row \u001b[0m│\u001b[1m id    \u001b[0m\u001b[1m from_id \u001b[0m\u001b[1m to_id \u001b[0m\u001b[1m from        \u001b[0m\u001b[1m to          \u001b[0m\u001b[1m from_LLA            \u001b[0m ⋯\n",
       "       │\u001b[90m Int64 \u001b[0m\u001b[90m Int64   \u001b[0m\u001b[90m Int64 \u001b[0m\u001b[90m Int64       \u001b[0m\u001b[90m Int64       \u001b[0m\u001b[90m String              \u001b[0m ⋯\n",
       "───────┼────────────────────────────────────────────────────────────────────────\n",
       "     1 │     1     9966   3276   6345928771   2334226606  OpenStreetMapX.LLA(5 ⋯\n",
       "     2 │     2     7510   7511   3590345306   3590340944  OpenStreetMapX.LLA(5\n",
       "     3 │     3     7511   7510   3590340944   3590345306  OpenStreetMapX.LLA(5\n",
       "     4 │     4     2671    423   2085021154    417933782  OpenStreetMapX.LLA(5\n",
       "     5 │     5      423   2671    417933782   2085021154  OpenStreetMapX.LLA(5 ⋯\n",
       "     6 │     6    11664   2671   7818064507   2085021154  OpenStreetMapX.LLA(5\n",
       "     7 │     7     2671  11664   2085021154   7818064507  OpenStreetMapX.LLA(5\n",
       "     8 │     8    11008  11664   7243570383   7818064507  OpenStreetMapX.LLA(5\n",
       "   ⋮   │   ⋮       ⋮       ⋮         ⋮            ⋮                       ⋮    ⋱\n",
       " 47379 │ 47379    15240  15239  10597786175   9392268077  OpenStreetMapX.LLA(5 ⋯\n",
       " 47380 │ 47380    15241  15239   9392268084   9392268077  OpenStreetMapX.LLA(5\n",
       " 47381 │ 47381    15239  15241   9392268077   9392268084  OpenStreetMapX.LLA(5\n",
       " 47382 │ 47382    15477  15476   9411616082   9411616076  OpenStreetMapX.LLA(5\n",
       " 47383 │ 47383    15476  15477   9411616076   9411616082  OpenStreetMapX.LLA(5 ⋯\n",
       " 47384 │ 47384    13827  13826   9100506287   9100506288  OpenStreetMapX.LLA(5\n",
       " 47385 │ 47385    13826  13827   9100506288   9100506287  OpenStreetMapX.LLA(5\n",
       "\u001b[36m                                                4 columns and 47370 rows omitted\u001b[0m, sparse([3439, 8190, 11552, 9469, 11552, 8492, 10082, 17906, 8497, 14723  …  22646, 22645, 11750, 22648, 22649, 22647, 11749, 22647, 22650, 22649], [1, 1, 1, 2, 2, 3, 3, 3, 4, 4  …  22645, 22646, 22647, 22647, 22647, 22648, 22649, 22649, 22649, 22650], [32526, 32521, 32527, 28211, 32530, 23868, 33997, 33996, 23877, 27478  …  39397, 39398, 30759, 12293, 30758, 12294, 30756, 30757, 14917, 14918], 22650, 22650), NearestNeighbors.KDTree{StaticArraysCore.SVector{2, Float64}, Distances.Euclidean, Float64, StaticArraysCore.SVector{2, Float64}}\n",
       "  Number of points: 22650\n",
       "  Dimensions: 2\n",
       "  Metric: Distances.Euclidean(0.0)\n",
       "  Reordered: false, [4060, 14028, 13136, 18436, 5066, 13700, 16085, 10671, 17306, 15677  …  10787, 19938, 4099, 2615, 7680, 17050, 8843, 15794, 435, 5111])"
      ]
     },
     "metadata": {},
     "output_type": "display_data"
    }
   ],
   "source": [
    "df, sparse_index, road_index, vals = OSMXGraph.create_road_graph(\"kielce_graph.csv\",\"kielce_nodes.json\")#,dir = dir_out)"
   ]
  },
  {
   "cell_type": "code",
   "execution_count": 12,
   "metadata": {},
   "outputs": [
    {
     "ename": "SystemError",
     "evalue": "SystemError: opening file \"data/Kielce.osm\": No such file or directory",
     "output_type": "error",
     "traceback": [
      "SystemError: opening file \"data/Kielce.osm\": No such file or directory\n",
      "\n",
      "Stacktrace:\n",
      "  [1] systemerror(p::String, errno::Int32; extrainfo::Nothing)\n",
      "    @ Base ./error.jl:176\n",
      "  [2] systemerror\n",
      "    @ ./error.jl:175 [inlined]\n",
      "  [3] open(fname::String; lock::Bool, read::Bool, write::Nothing, create::Nothing, truncate::Nothing, append::Nothing)\n",
      "    @ Base ./iostream.jl:293\n",
      "  [4] open\n",
      "    @ ./iostream.jl:275 [inlined]\n",
      "  [5] open(fname::String, mode::String; lock::Bool)\n",
      "    @ Base ./iostream.jl:356\n",
      "  [6] open\n",
      "    @ ./iostream.jl:355 [inlined]\n",
      "  [7] find_poi(filename::String, scrape_config::ScrapePOIConfig{AttractivenessMetaPOI}; all_tags::Bool)\n",
      "    @ OSMToolset ~/.julia/packages/OSMToolset/s0jwL/src/poi.jl:210\n",
      "  [8] find_poi\n",
      "    @ ~/.julia/packages/OSMToolset/s0jwL/src/poi.jl:189 [inlined]\n",
      "  [9] find_poi(filename::String)\n",
      "    @ OSMToolset ~/.julia/packages/OSMToolset/s0jwL/src/poi.jl:189\n",
      " [10] top-level scope\n",
      "    @ ~/Julia/map_analyses/OSMXGraph/OSMXGraph/test/jl_notebook_cell_df34fa98e69747e1a8f8a730347b8e2f_X11sZmlsZQ==.jl:2"
     ]
    }
   ],
   "source": [
    "#scrp_config = OSMToolset.ScrapePOIConfig(DataFrame(CSV.File(scrape_config)))\n",
    "POI_df = OSMToolset.find_poi(string(\"data/Kielce.osm\"))\n",
    "POI_xs = POI_df.lat\n",
    "POI_ys = POI_df.lon"
   ]
  },
  {
   "cell_type": "code",
   "execution_count": 13,
   "metadata": {},
   "outputs": [
    {
     "ename": "UndefVarError",
     "evalue": "UndefVarError: `POI_df` not defined",
     "output_type": "error",
     "traceback": [
      "UndefVarError: `POI_df` not defined\n",
      "\n",
      "Stacktrace:\n",
      " [1] top-level scope\n",
      "   @ ~/Julia/map_analyses/OSMXGraph/OSMXGraph/test/jl_notebook_cell_df34fa98e69747e1a8f8a730347b8e2f_X12sZmlsZQ==.jl:1"
     ]
    }
   ],
   "source": [
    "poi_with_nearest_points = OSMXGraph.add_nearest_road_point(POI_df,POI_xs, POI_ys, road_index, vals)"
   ]
  },
  {
   "cell_type": "code",
   "execution_count": 14,
   "metadata": {},
   "outputs": [
    {
     "ename": "UndefVarError",
     "evalue": "UndefVarError: `poi_with_nearest_points` not defined",
     "output_type": "error",
     "traceback": [
      "UndefVarError: `poi_with_nearest_points` not defined\n",
      "\n",
      "Stacktrace:\n",
      " [1] top-level scope\n",
      "   @ ~/Julia/map_analyses/OSMXGraph/OSMXGraph/test/jl_notebook_cell_df34fa98e69747e1a8f8a730347b8e2f_X13sZmlsZQ==.jl:1"
     ]
    }
   ],
   "source": [
    "save_file(poi_with_nearest_points,\"poi_with_nearest_points.csv\")#,dir=dir_out)"
   ]
  }
 ],
 "metadata": {
  "kernelspec": {
   "display_name": "Julia 1.10.4",
   "language": "julia",
   "name": "julia-1.10"
  },
  "language_info": {
   "file_extension": ".jl",
   "mimetype": "application/julia",
   "name": "julia",
   "version": "1.10.4"
  }
 },
 "nbformat": 4,
 "nbformat_minor": 2
}
